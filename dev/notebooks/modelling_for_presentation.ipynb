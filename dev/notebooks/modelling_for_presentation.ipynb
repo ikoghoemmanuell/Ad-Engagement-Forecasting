{
  "cells": [
    {
      "cell_type": "markdown",
      "metadata": {
        "id": "G0W08xH04Nzv"
      },
      "source": [
        "# Title"
      ]
    },
    {
      "cell_type": "markdown",
      "metadata": {
        "id": "jLTuR-lo4Nzx"
      },
      "source": [
        "# Description"
      ]
    },
    {
      "cell_type": "code",
      "execution_count": 1,
      "metadata": {
        "colab": {
          "base_uri": "https://localhost:8080/"
        },
        "id": "Qmbb_sngwF8q",
        "outputId": "03bb4ea8-c6a1-420b-be86-4c657c097311"
      },
      "outputs": [],
      "source": [
        "# pip install category_encoders\n",
        "# !pip install pmdarima"
      ]
    },
    {
      "cell_type": "markdown",
      "metadata": {
        "id": "h76n_a9e4Nzy"
      },
      "source": [
        "# Importation"
      ]
    },
    {
      "cell_type": "code",
      "execution_count": 2,
      "metadata": {
        "id": "h9KtdvmP4Nzz"
      },
      "outputs": [],
      "source": [
        "import pandas as pd\n",
        "import numpy as np\n",
        "import matplotlib.pyplot as plt\n",
        "import seaborn as sns\n",
        "import plotly.express as px\n",
        "import plotly.graph_objects as go\n",
        "\n",
        "import matplotlib.dates as mdates\n",
        "%matplotlib inline\n",
        "from itertools import product\n",
        "\n",
        "from statsmodels.tsa.stattools import adfuller\n",
        "from statsmodels.tsa.stattools import kpss\n",
        "from statsmodels.graphics.tsaplots import plot_acf, plot_pacf\n",
        "\n",
        "from sklearn.impute import SimpleImputer\n",
        "from sklearn.preprocessing import OneHotEncoder, LabelEncoder\n",
        "from category_encoders.binary import BinaryEncoder\n",
        "from sklearn.preprocessing import StandardScaler\n",
        "\n",
        "from sklearn.metrics import mean_squared_error\n",
        "from sklearn.metrics import mean_squared_log_error\n",
        "\n",
        "from statsmodels.tsa.seasonal import seasonal_decompose\n",
        "from statsmodels.tsa.api import AutoReg\n",
        "from pmdarima import auto_arima\n",
        "from statsmodels.tsa.arima.model import ARIMA\n",
        "from statsmodels.tsa.statespace.sarimax import SARIMAX\n",
        "\n",
        "import warnings\n",
        "import os\n",
        "warnings.filterwarnings(\"ignore\")"
      ]
    },
    {
      "cell_type": "markdown",
      "metadata": {
        "id": "3kfbniiz4Nz0"
      },
      "source": [
        "# Data Loading"
      ]
    },
    {
      "cell_type": "code",
      "execution_count": 3,
      "metadata": {
        "colab": {
          "base_uri": "https://localhost:8080/"
        },
        "id": "p3HFblb7_vMc",
        "outputId": "f2bd875f-7ab8-4c0b-fa21-da8f20737e73"
      },
      "outputs": [],
      "source": [
        "train = pd.read_csv('../../assets/data/Train.csv')\n",
        "sample = pd.read_csv('../../assets/data/SampleSubmission.csv')"
      ]
    },
    {
      "cell_type": "markdown",
      "metadata": {
        "id": "Mz9VjJVx4Nz3"
      },
      "source": [
        "# Dataset overview"
      ]
    },
    {
      "cell_type": "code",
      "execution_count": 4,
      "metadata": {
        "colab": {
          "base_uri": "https://localhost:8080/",
          "height": 206
        },
        "id": "kajd5nDC490n",
        "outputId": "c7663505-bcd4-4cc4-a32c-04bee5de269c"
      },
      "outputs": [
        {
          "data": {
            "text/html": [
              "<div>\n",
              "<style scoped>\n",
              "    .dataframe tbody tr th:only-of-type {\n",
              "        vertical-align: middle;\n",
              "    }\n",
              "\n",
              "    .dataframe tbody tr th {\n",
              "        vertical-align: top;\n",
              "    }\n",
              "\n",
              "    .dataframe thead th {\n",
              "        text-align: right;\n",
              "    }\n",
              "</style>\n",
              "<table border=\"1\" class=\"dataframe\">\n",
              "  <thead>\n",
              "    <tr style=\"text-align: right;\">\n",
              "      <th></th>\n",
              "      <th>impressions</th>\n",
              "      <th>clicks</th>\n",
              "      <th>cost</th>\n",
              "      <th>conversions</th>\n",
              "      <th>ad_type</th>\n",
              "      <th>currency</th>\n",
              "      <th>ID</th>\n",
              "      <th>date</th>\n",
              "      <th>call_type</th>\n",
              "      <th>call_status</th>\n",
              "      <th>start_time</th>\n",
              "      <th>duration</th>\n",
              "      <th>end_time</th>\n",
              "      <th>display_location</th>\n",
              "      <th>impression_share</th>\n",
              "      <th>conversions_calls</th>\n",
              "      <th>headline1_len</th>\n",
              "      <th>headline2_len</th>\n",
              "      <th>ad_description_len</th>\n",
              "    </tr>\n",
              "  </thead>\n",
              "  <tbody>\n",
              "    <tr>\n",
              "      <th>0</th>\n",
              "      <td>142.0</td>\n",
              "      <td>15.0</td>\n",
              "      <td>3393.0</td>\n",
              "      <td>0.0</td>\n",
              "      <td>EXPANDED_TEXT_AD</td>\n",
              "      <td>ZAR</td>\n",
              "      <td>ID_5da86e71bf5dee4cf5047046</td>\n",
              "      <td>2020-01-01</td>\n",
              "      <td>NaN</td>\n",
              "      <td>NaN</td>\n",
              "      <td>NaN</td>\n",
              "      <td>NaN</td>\n",
              "      <td>NaN</td>\n",
              "      <td>NaN</td>\n",
              "      <td>16.279669</td>\n",
              "      <td>0.0</td>\n",
              "      <td>2.0</td>\n",
              "      <td>5.0</td>\n",
              "      <td>11.0</td>\n",
              "    </tr>\n",
              "    <tr>\n",
              "      <th>1</th>\n",
              "      <td>89.0</td>\n",
              "      <td>8.0</td>\n",
              "      <td>1817.0</td>\n",
              "      <td>0.0</td>\n",
              "      <td>EXPANDED_TEXT_AD</td>\n",
              "      <td>ZAR</td>\n",
              "      <td>ID_5da86e71bf5dee4cf5047046</td>\n",
              "      <td>2020-01-01</td>\n",
              "      <td>NaN</td>\n",
              "      <td>NaN</td>\n",
              "      <td>NaN</td>\n",
              "      <td>NaN</td>\n",
              "      <td>NaN</td>\n",
              "      <td>NaN</td>\n",
              "      <td>16.279669</td>\n",
              "      <td>0.0</td>\n",
              "      <td>2.0</td>\n",
              "      <td>2.0</td>\n",
              "      <td>13.0</td>\n",
              "    </tr>\n",
              "    <tr>\n",
              "      <th>2</th>\n",
              "      <td>59.0</td>\n",
              "      <td>8.0</td>\n",
              "      <td>1743.0</td>\n",
              "      <td>0.0</td>\n",
              "      <td>EXPANDED_TEXT_AD</td>\n",
              "      <td>ZAR</td>\n",
              "      <td>ID_5da86e71bf5dee4cf5047046</td>\n",
              "      <td>2020-01-01</td>\n",
              "      <td>NaN</td>\n",
              "      <td>NaN</td>\n",
              "      <td>NaN</td>\n",
              "      <td>NaN</td>\n",
              "      <td>NaN</td>\n",
              "      <td>NaN</td>\n",
              "      <td>16.279669</td>\n",
              "      <td>0.0</td>\n",
              "      <td>2.0</td>\n",
              "      <td>2.0</td>\n",
              "      <td>10.0</td>\n",
              "    </tr>\n",
              "    <tr>\n",
              "      <th>3</th>\n",
              "      <td>78.0</td>\n",
              "      <td>4.0</td>\n",
              "      <td>917.0</td>\n",
              "      <td>0.0</td>\n",
              "      <td>EXPANDED_TEXT_AD</td>\n",
              "      <td>ZAR</td>\n",
              "      <td>ID_5da86e71bf5dee4cf5047046</td>\n",
              "      <td>2020-01-01</td>\n",
              "      <td>NaN</td>\n",
              "      <td>NaN</td>\n",
              "      <td>NaN</td>\n",
              "      <td>NaN</td>\n",
              "      <td>NaN</td>\n",
              "      <td>NaN</td>\n",
              "      <td>16.279669</td>\n",
              "      <td>0.0</td>\n",
              "      <td>2.0</td>\n",
              "      <td>3.0</td>\n",
              "      <td>13.0</td>\n",
              "    </tr>\n",
              "    <tr>\n",
              "      <th>4</th>\n",
              "      <td>20.0</td>\n",
              "      <td>1.0</td>\n",
              "      <td>217.0</td>\n",
              "      <td>0.0</td>\n",
              "      <td>EXPANDED_TEXT_AD</td>\n",
              "      <td>ZAR</td>\n",
              "      <td>ID_5da86e71bf5dee4cf5047046</td>\n",
              "      <td>2020-01-01</td>\n",
              "      <td>NaN</td>\n",
              "      <td>NaN</td>\n",
              "      <td>NaN</td>\n",
              "      <td>NaN</td>\n",
              "      <td>NaN</td>\n",
              "      <td>NaN</td>\n",
              "      <td>16.279669</td>\n",
              "      <td>0.0</td>\n",
              "      <td>2.0</td>\n",
              "      <td>2.0</td>\n",
              "      <td>13.0</td>\n",
              "    </tr>\n",
              "  </tbody>\n",
              "</table>\n",
              "</div>"
            ],
            "text/plain": [
              "   impressions  clicks    cost  conversions           ad_type currency  \\\n",
              "0        142.0    15.0  3393.0          0.0  EXPANDED_TEXT_AD      ZAR   \n",
              "1         89.0     8.0  1817.0          0.0  EXPANDED_TEXT_AD      ZAR   \n",
              "2         59.0     8.0  1743.0          0.0  EXPANDED_TEXT_AD      ZAR   \n",
              "3         78.0     4.0   917.0          0.0  EXPANDED_TEXT_AD      ZAR   \n",
              "4         20.0     1.0   217.0          0.0  EXPANDED_TEXT_AD      ZAR   \n",
              "\n",
              "                            ID        date call_type call_status start_time  \\\n",
              "0  ID_5da86e71bf5dee4cf5047046  2020-01-01       NaN         NaN        NaN   \n",
              "1  ID_5da86e71bf5dee4cf5047046  2020-01-01       NaN         NaN        NaN   \n",
              "2  ID_5da86e71bf5dee4cf5047046  2020-01-01       NaN         NaN        NaN   \n",
              "3  ID_5da86e71bf5dee4cf5047046  2020-01-01       NaN         NaN        NaN   \n",
              "4  ID_5da86e71bf5dee4cf5047046  2020-01-01       NaN         NaN        NaN   \n",
              "\n",
              "   duration end_time display_location  impression_share  conversions_calls  \\\n",
              "0       NaN      NaN              NaN         16.279669                0.0   \n",
              "1       NaN      NaN              NaN         16.279669                0.0   \n",
              "2       NaN      NaN              NaN         16.279669                0.0   \n",
              "3       NaN      NaN              NaN         16.279669                0.0   \n",
              "4       NaN      NaN              NaN         16.279669                0.0   \n",
              "\n",
              "   headline1_len  headline2_len  ad_description_len  \n",
              "0            2.0            5.0                11.0  \n",
              "1            2.0            2.0                13.0  \n",
              "2            2.0            2.0                10.0  \n",
              "3            2.0            3.0                13.0  \n",
              "4            2.0            2.0                13.0  "
            ]
          },
          "execution_count": 4,
          "metadata": {},
          "output_type": "execute_result"
        }
      ],
      "source": [
        "train.head()"
      ]
    },
    {
      "cell_type": "code",
      "execution_count": 5,
      "metadata": {},
      "outputs": [],
      "source": [
        "train.drop('start_time', axis=1, inplace=True)\n",
        "train.drop('end_time', axis=1, inplace=True)"
      ]
    },
    {
      "cell_type": "code",
      "execution_count": 6,
      "metadata": {},
      "outputs": [],
      "source": [
        "train['date'] = pd.to_datetime(train['date'])"
      ]
    },
    {
      "cell_type": "code",
      "execution_count": 7,
      "metadata": {},
      "outputs": [
        {
          "name": "stdout",
          "output_type": "stream",
          "text": [
            "<class 'pandas.core.frame.DataFrame'>\n",
            "RangeIndex: 289926 entries, 0 to 289925\n",
            "Data columns (total 17 columns):\n",
            " #   Column              Non-Null Count   Dtype         \n",
            "---  ------              --------------   -----         \n",
            " 0   impressions         289526 non-null  float64       \n",
            " 1   clicks              289526 non-null  float64       \n",
            " 2   cost                289526 non-null  float64       \n",
            " 3   conversions         289526 non-null  float64       \n",
            " 4   ad_type             289526 non-null  object        \n",
            " 5   currency            289526 non-null  object        \n",
            " 6   ID                  289926 non-null  object        \n",
            " 7   date                289926 non-null  datetime64[ns]\n",
            " 8   call_type           36900 non-null   object        \n",
            " 9   call_status         36900 non-null   object        \n",
            " 10  duration            36900 non-null   float64       \n",
            " 11  display_location    36900 non-null   object        \n",
            " 12  impression_share    289926 non-null  float64       \n",
            " 13  conversions_calls   280071 non-null  float64       \n",
            " 14  headline1_len       289526 non-null  float64       \n",
            " 15  headline2_len       289526 non-null  float64       \n",
            " 16  ad_description_len  289526 non-null  float64       \n",
            "dtypes: datetime64[ns](1), float64(10), object(6)\n",
            "memory usage: 37.6+ MB\n"
          ]
        }
      ],
      "source": [
        "train.info()"
      ]
    },
    {
      "cell_type": "code",
      "execution_count": 8,
      "metadata": {
        "colab": {
          "base_uri": "https://localhost:8080/",
          "height": 300
        },
        "id": "Slj_ROrsD0V4",
        "outputId": "8c3ff6eb-34ea-44e7-a444-9e176aae7e08"
      },
      "outputs": [
        {
          "data": {
            "text/html": [
              "<div>\n",
              "<style scoped>\n",
              "    .dataframe tbody tr th:only-of-type {\n",
              "        vertical-align: middle;\n",
              "    }\n",
              "\n",
              "    .dataframe tbody tr th {\n",
              "        vertical-align: top;\n",
              "    }\n",
              "\n",
              "    .dataframe thead th {\n",
              "        text-align: right;\n",
              "    }\n",
              "</style>\n",
              "<table border=\"1\" class=\"dataframe\">\n",
              "  <thead>\n",
              "    <tr style=\"text-align: right;\">\n",
              "      <th></th>\n",
              "      <th>impressions</th>\n",
              "      <th>clicks</th>\n",
              "      <th>cost</th>\n",
              "      <th>conversions</th>\n",
              "      <th>date</th>\n",
              "      <th>duration</th>\n",
              "      <th>impression_share</th>\n",
              "      <th>conversions_calls</th>\n",
              "      <th>headline1_len</th>\n",
              "      <th>headline2_len</th>\n",
              "      <th>ad_description_len</th>\n",
              "    </tr>\n",
              "  </thead>\n",
              "  <tbody>\n",
              "    <tr>\n",
              "      <th>count</th>\n",
              "      <td>289526.000000</td>\n",
              "      <td>289526.000000</td>\n",
              "      <td>289526.000000</td>\n",
              "      <td>289526.000000</td>\n",
              "      <td>289926</td>\n",
              "      <td>36900.000000</td>\n",
              "      <td>289926.000000</td>\n",
              "      <td>280071.000000</td>\n",
              "      <td>289526.000000</td>\n",
              "      <td>289526.000000</td>\n",
              "      <td>289526.000000</td>\n",
              "    </tr>\n",
              "    <tr>\n",
              "      <th>mean</th>\n",
              "      <td>72.809620</td>\n",
              "      <td>8.039927</td>\n",
              "      <td>2208.525051</td>\n",
              "      <td>0.790140</td>\n",
              "      <td>2022-10-07 05:40:09.014714112</td>\n",
              "      <td>67.968970</td>\n",
              "      <td>16.656556</td>\n",
              "      <td>0.127928</td>\n",
              "      <td>2.745584</td>\n",
              "      <td>2.879824</td>\n",
              "      <td>10.706165</td>\n",
              "    </tr>\n",
              "    <tr>\n",
              "      <th>min</th>\n",
              "      <td>0.000000</td>\n",
              "      <td>0.000000</td>\n",
              "      <td>0.000000</td>\n",
              "      <td>0.000000</td>\n",
              "      <td>2020-01-01 00:00:00</td>\n",
              "      <td>0.000000</td>\n",
              "      <td>0.000000</td>\n",
              "      <td>0.000000</td>\n",
              "      <td>0.000000</td>\n",
              "      <td>0.000000</td>\n",
              "      <td>0.000000</td>\n",
              "    </tr>\n",
              "    <tr>\n",
              "      <th>25%</th>\n",
              "      <td>6.000000</td>\n",
              "      <td>0.000000</td>\n",
              "      <td>0.000000</td>\n",
              "      <td>0.000000</td>\n",
              "      <td>2022-02-04 00:00:00</td>\n",
              "      <td>0.000000</td>\n",
              "      <td>9.990000</td>\n",
              "      <td>0.000000</td>\n",
              "      <td>2.000000</td>\n",
              "      <td>1.000000</td>\n",
              "      <td>10.000000</td>\n",
              "    </tr>\n",
              "    <tr>\n",
              "      <th>50%</th>\n",
              "      <td>23.000000</td>\n",
              "      <td>2.000000</td>\n",
              "      <td>553.000000</td>\n",
              "      <td>0.000000</td>\n",
              "      <td>2022-11-13 00:00:00</td>\n",
              "      <td>36.000000</td>\n",
              "      <td>11.421975</td>\n",
              "      <td>0.000000</td>\n",
              "      <td>3.000000</td>\n",
              "      <td>3.000000</td>\n",
              "      <td>12.000000</td>\n",
              "    </tr>\n",
              "    <tr>\n",
              "      <th>75%</th>\n",
              "      <td>69.000000</td>\n",
              "      <td>6.000000</td>\n",
              "      <td>2062.500000</td>\n",
              "      <td>0.000000</td>\n",
              "      <td>2023-07-21 00:00:00</td>\n",
              "      <td>95.000000</td>\n",
              "      <td>20.122939</td>\n",
              "      <td>0.000000</td>\n",
              "      <td>4.000000</td>\n",
              "      <td>4.000000</td>\n",
              "      <td>14.000000</td>\n",
              "    </tr>\n",
              "    <tr>\n",
              "      <th>max</th>\n",
              "      <td>6833.000000</td>\n",
              "      <td>4227.000000</td>\n",
              "      <td>719928.000000</td>\n",
              "      <td>1297.000000</td>\n",
              "      <td>2024-02-13 00:00:00</td>\n",
              "      <td>2125.000000</td>\n",
              "      <td>100.000000</td>\n",
              "      <td>8.000000</td>\n",
              "      <td>7.000000</td>\n",
              "      <td>7.000000</td>\n",
              "      <td>20.000000</td>\n",
              "    </tr>\n",
              "    <tr>\n",
              "      <th>std</th>\n",
              "      <td>153.592792</td>\n",
              "      <td>36.241161</td>\n",
              "      <td>7392.609733</td>\n",
              "      <td>10.298258</td>\n",
              "      <td>NaN</td>\n",
              "      <td>98.055148</td>\n",
              "      <td>12.186418</td>\n",
              "      <td>0.526362</td>\n",
              "      <td>1.571108</td>\n",
              "      <td>1.670356</td>\n",
              "      <td>4.509450</td>\n",
              "    </tr>\n",
              "  </tbody>\n",
              "</table>\n",
              "</div>"
            ],
            "text/plain": [
              "         impressions         clicks           cost    conversions  \\\n",
              "count  289526.000000  289526.000000  289526.000000  289526.000000   \n",
              "mean       72.809620       8.039927    2208.525051       0.790140   \n",
              "min         0.000000       0.000000       0.000000       0.000000   \n",
              "25%         6.000000       0.000000       0.000000       0.000000   \n",
              "50%        23.000000       2.000000     553.000000       0.000000   \n",
              "75%        69.000000       6.000000    2062.500000       0.000000   \n",
              "max      6833.000000    4227.000000  719928.000000    1297.000000   \n",
              "std       153.592792      36.241161    7392.609733      10.298258   \n",
              "\n",
              "                                date      duration  impression_share  \\\n",
              "count                         289926  36900.000000     289926.000000   \n",
              "mean   2022-10-07 05:40:09.014714112     67.968970         16.656556   \n",
              "min              2020-01-01 00:00:00      0.000000          0.000000   \n",
              "25%              2022-02-04 00:00:00      0.000000          9.990000   \n",
              "50%              2022-11-13 00:00:00     36.000000         11.421975   \n",
              "75%              2023-07-21 00:00:00     95.000000         20.122939   \n",
              "max              2024-02-13 00:00:00   2125.000000        100.000000   \n",
              "std                              NaN     98.055148         12.186418   \n",
              "\n",
              "       conversions_calls  headline1_len  headline2_len  ad_description_len  \n",
              "count      280071.000000  289526.000000  289526.000000       289526.000000  \n",
              "mean            0.127928       2.745584       2.879824           10.706165  \n",
              "min             0.000000       0.000000       0.000000            0.000000  \n",
              "25%             0.000000       2.000000       1.000000           10.000000  \n",
              "50%             0.000000       3.000000       3.000000           12.000000  \n",
              "75%             0.000000       4.000000       4.000000           14.000000  \n",
              "max             8.000000       7.000000       7.000000           20.000000  \n",
              "std             0.526362       1.571108       1.670356            4.509450  "
            ]
          },
          "execution_count": 8,
          "metadata": {},
          "output_type": "execute_result"
        }
      ],
      "source": [
        "train.describe()"
      ]
    },
    {
      "cell_type": "code",
      "execution_count": 9,
      "metadata": {},
      "outputs": [],
      "source": [
        "numeric_columns = train.select_dtypes(include=['int64', 'int32', 'float64']).columns.tolist()\n",
        "categoric_columns = [col for col in train.columns if col not in numeric_columns]\n",
        "categoric_columns.remove('date')"
      ]
    },
    {
      "cell_type": "code",
      "execution_count": 10,
      "metadata": {},
      "outputs": [
        {
          "name": "stdout",
          "output_type": "stream",
          "text": [
            "ad_type 4 ['EXPANDED_TEXT_AD' 'EXPANDED_DYNAMIC_SEARCH_AD' 'RESPONSIVE_SEARCH_AD'\n",
            " nan]\n",
            "currency 3 ['ZAR' 'USD' nan]\n",
            "ID 185 ['ID_5da86e71bf5dee4cf5047046' 'ID_5e43c29e6279884e2827d894'\n",
            " 'ID_5e4e7b480e374330ee151305' 'ID_5e8ad56cd4090270567b6c58'\n",
            " 'ID_5e8b4f12d8709943490cd775' 'ID_5ebe73c4beb2212d415f6e56'\n",
            " 'ID_5ee74f25f865a8154966b412' 'ID_5eebc5be7bcfa265595eb987'\n",
            " 'ID_5f2ac3529666de2cdf5ae855' 'ID_5f3cdce8c0440e2c5902dd59'\n",
            " 'ID_5f436d32c620230547446af4' 'ID_5f439a30fcc0f575b674bb95'\n",
            " 'ID_5f4514323f494e4a2a5eb273' 'ID_5f9e5f1c691b48189c22aac6'\n",
            " 'ID_5fa3dab4394cd16b000ec5fc' 'ID_5fc1263767e20c14590941ed'\n",
            " 'ID_5fd88b10425b32098417a3d4' 'ID_600d8eaaf5c7660c0b1f0773'\n",
            " 'ID_6017e410f7384a78e600da18' 'ID_602b729b3f4128452c1c2f64'\n",
            " 'ID_602cfab1d7768d79aa6629b4' 'ID_604752a9861a02467a27c054'\n",
            " 'ID_60475eaac98ea30d727b7385' 'ID_6047b0d4c59eff5af82a57ee'\n",
            " 'ID_606f34aef59df516866d0ab1' 'ID_6083bd8472c70c3d1869bc68'\n",
            " 'ID_608a6897d96a507cd36c935d' 'ID_608a6ad834a94a4eb8742899'\n",
            " 'ID_60e556f789173d61d07e3294' 'ID_60e5572b44311c0aa4513107'\n",
            " 'ID_60ed537e880be55ca17d2cb6' 'ID_60f0802ede929401f94e50b5'\n",
            " 'ID_60f12ace56214677d611d526' 'ID_60ffd129e838871b1754c836'\n",
            " 'ID_6103b50cd6d4a602e4370f05' 'ID_6127aa3ad0a7b71b7b70196c'\n",
            " 'ID_6130ea7a06c5cb5b571f8c1d' 'ID_61321c129a9b4c145436394d'\n",
            " 'ID_613716cf75986166a63686d7' 'ID_6141dbc4d1a65a3c9165cb24'\n",
            " 'ID_6141e46e3492111e0c6d2a34' 'ID_6163e3ed2c87b93c6055ec2a'\n",
            " 'ID_617beb7403c1051f8a42b524' 'ID_618a50e0500d9413097ccd75'\n",
            " 'ID_618a6797e203d8234e6856dd' 'ID_619b545521ae9a187f0f0d97'\n",
            " 'ID_619caa6d230440455a384bf6' 'ID_61ab912923980748d20c8fd8'\n",
            " 'ID_61d5c833cb67550b4d1f5008' 'ID_61dc323a202ecc233d4dabb5'\n",
            " 'ID_61efa4189f0e4645b652296a' 'ID_61f27201f7db923685712128'\n",
            " 'ID_61f2910d076b173c5c629945' 'ID_61f96ef9941a217657673f65'\n",
            " 'ID_620fa2fa329e60259f7ddec6' 'ID_62123b0e0c4f78309f3d8ac6'\n",
            " 'ID_621cbd298d435840264f9a22' 'ID_6242e6f147af795a92470368'\n",
            " 'ID_624bfadac86f51149f3fbde5' 'ID_6255767a2a9dd71a6713a095'\n",
            " 'ID_62713c09ca26da4db1116a05' 'ID_6273ad211040cf53e66b4bf8'\n",
            " 'ID_6273d3a2b67ccf3b406068a5' 'ID_62791a704acc5b2736563535'\n",
            " 'ID_627cb73e65f34e61fb4d3247' 'ID_628cfb8dd9689515112d48c6'\n",
            " 'ID_6298b6310def91542a5752f4' 'ID_629e729214035d4a8541e0b8'\n",
            " 'ID_62a03c6d638c217d405a9155' 'ID_62a1a11ea8775f127917c026'\n",
            " 'ID_62a1db369df50737b3321a67' 'ID_62a35b4a56776675c40646a7'\n",
            " 'ID_62f948a0e9c85b405b795005' 'ID_630cb29cb4633d70ec3e4b28'\n",
            " 'ID_6311c8df6a4fec36e3730ee5' 'ID_6320507deb37f91b900fe6e4'\n",
            " 'ID_632c2af9bec9c87e603107b6' 'ID_63340f02a7363d4b2c0ae32a'\n",
            " 'ID_6335a2838ac3337afb26d4d7' 'ID_6356bad61ebba975f01f5425'\n",
            " 'ID_6361f9ffedd8353ed336f745' 'ID_636b2ffdba11153d7f4f2c06'\n",
            " 'ID_637b6db8e47f4c3b177caf24' 'ID_637c6b3c7aff7b47021ab16d'\n",
            " 'ID_637cf28cab15af520049256a' 'ID_6384b57da130a026dd715854'\n",
            " 'ID_638610848693b868d47d4598' 'ID_6388a9cc4d7af753062f0529'\n",
            " 'ID_638f03cbed07d3161a77e484' 'ID_63964ba81a9885127837fbc7'\n",
            " 'ID_63b3b2bf9cd0314f465f8744' 'ID_63b9b0b2c9469055e502b295'\n",
            " 'ID_63c12db6fa571b3a613d43a4' 'ID_63d27db626e7ad79b7640c46'\n",
            " 'ID_63d8f018725833509b4a2c75' 'ID_63e4ac66c90a346ba96ed7c6'\n",
            " 'ID_63fc719f9bf744526a195e98' 'ID_64070e48bd7071708438f398'\n",
            " 'ID_64073fc37d61047ad161a606' 'ID_6408bea7943d11680870ef37'\n",
            " 'ID_64268025a80ef266c3417e27' 'ID_6426c145b53c89172029f506'\n",
            " 'ID_643e64bd9190740c1d7407f6' 'ID_644b88421b452a7ea24bcd06'\n",
            " 'ID_644bb63b02f7105d212ae969' 'ID_645882d15227d476196aed49'\n",
            " 'ID_6458d7b43d5a613f71410375' 'ID_645c94036caf5c77fe3a6151'\n",
            " 'ID_6464ba7988f2ff57157322b6' 'ID_64676b314a2da50efd690a46'\n",
            " 'ID_6474d400c6933e4b4a5c5337' 'ID_64771047e86c54306139f3c4'\n",
            " 'ID_647dd041ce4cdb1a31597888' 'ID_64818f74ee9ced578f40a9e6'\n",
            " 'ID_6489889191a15a7fca16e326' 'ID_6489a3b64f5e7d5d110bd4eb'\n",
            " 'ID_649011d41e41763cc27f09b6' 'ID_6491a50ce7b72a70aa75437a'\n",
            " 'ID_6492ce879e3baf373a55aab5' 'ID_6497597d8041b3133a721ec7'\n",
            " 'ID_649964e26db1286c56156c66' 'ID_6499963984bc60653a3e4495'\n",
            " 'ID_649b37ba66eba1605b485d16' 'ID_649ecc31c986241e700a2046'\n",
            " 'ID_649ecd7cf95051327b338684' 'ID_649f1bef6b4c6341ca18a0d5'\n",
            " 'ID_649f3100b29ced7f6517a532' 'ID_64a54c4b10409330e5559677'\n",
            " 'ID_64a590d8258577494c7e4e47' 'ID_64a5c7e0db50245803503dd7'\n",
            " 'ID_64aaf747729a5508256653e5' 'ID_64ad4454fe7c2d69f25d9759'\n",
            " 'ID_64b144b6bb5ebd59995098f8' 'ID_64b6a2e5ec8e2640b008dad3'\n",
            " 'ID_64b7b2795e6fd83b270de6b8' 'ID_64b91852366a244c4c2d2616'\n",
            " 'ID_64be5c51a5db0060046fa166' 'ID_64c10bff5ae80900c97308a6'\n",
            " 'ID_64c25df64807d0282706b0ca' 'ID_64c29c0fb5fe0828b84b95f7'\n",
            " 'ID_64c38b7d039d2322ec105c6a' 'ID_64c393edb0613d10ec5ead4e'\n",
            " 'ID_64c75a2e3f7a615b7d5161d8' 'ID_64cce13a065233199d450754'\n",
            " 'ID_64d0bd0091caf6305e343d81' 'ID_64db339427687379bb7abc99'\n",
            " 'ID_64dcd1614e8f73143e557db7' 'ID_64e75947276de33b8665a516'\n",
            " 'ID_64f048dfd056f86b73742e64' 'ID_64f19d0c876070595e525fdc'\n",
            " 'ID_64f83d674494f609796268e8' 'ID_64f8895de5a4a90700156695'\n",
            " 'ID_64fb107a03d7866c5900d3f4' 'ID_65003ad8da97b576ff7b21f5'\n",
            " 'ID_650198abf77ff24c3619c224' 'ID_6502d9045d1fce64bc74a164'\n",
            " 'ID_650436679bee7835ba4d5dc6' 'ID_65098815a56bb64c756a8a54'\n",
            " 'ID_650acf483bb1b517c041031b' 'ID_650d757f47c94865571b6ba9'\n",
            " 'ID_650de69b6467857f167eb4a5' 'ID_6512f45aa0d0733bf951e3c5'\n",
            " 'ID_651a8f3f0a237776ca1cf668' 'ID_651d2210790fd5621d592a04'\n",
            " 'ID_651d41157f25fd3d3c1b62b7' 'ID_651d498f574c692aad4d2da6'\n",
            " 'ID_6526707040b2f47f114f86aa' 'ID_65278bc176ff2b5ae5093c89'\n",
            " 'ID_653a7dbc419fc161735be9a5' 'ID_653f72803fbe1219423544e6'\n",
            " 'ID_6540ddc07e6887217043b524' 'ID_65434a0b87e3c228197a5d05'\n",
            " 'ID_6548ff76c7b54008b66d7797' 'ID_6551ddb26a75444f4e16e234'\n",
            " 'ID_6554ec6993170f75bd752ec8' 'ID_655c5cf8c1eb0b6291500174'\n",
            " 'ID_65649619b961e503bc796b2e' 'ID_6565b6061f711967d4479b26'\n",
            " 'ID_65660b0c15962a6be05ec935' 'ID_6567476a4a967518c623d506'\n",
            " 'ID_656747739b5c72023947f7c7' 'ID_65687e2b40ea026fcc662a75'\n",
            " 'ID_6568807cbb9c4d235c5dd9a8' 'ID_65a7bf329fa4627faf28390c'\n",
            " 'ID_65b0f65c7fe62e56c5593d55']\n",
            "call_type 3 [nan 'Mobile click-to-call' 'Manually dialed']\n",
            "call_status 3 [nan 'Missed' 'Received']\n",
            "display_location 5 [nan 'Ad' 'AD' 'Website' 'LANDING_PAGE']\n"
          ]
        }
      ],
      "source": [
        "for col in categoric_columns:\n",
        "  print(col, len(train[col].unique()), train[col].unique())"
      ]
    },
    {
      "cell_type": "markdown",
      "metadata": {
        "id": "0PSAf8TQ4Nz6"
      },
      "source": [
        "## Hypothesis\n",
        "**H0**: \n",
        "\n",
        "**H1**: "
      ]
    },
    {
      "cell_type": "markdown",
      "metadata": {
        "id": "9m8lZeet4Nz6"
      },
      "source": [
        "## Questions\n",
        "\n",
        "1. Is the train data complete?\n",
        "2. Do we have seasonality in our ?\n",
        "3. Are there outliers in our dataset?\n",
        "4. What is the difference between RMSLE, RMSE and MSE?"
      ]
    },
    {
      "cell_type": "markdown",
      "metadata": {
        "id": "hqYE8pYDyiT5"
      },
      "source": [
        "| Issues                                  | how we intend to solve them                                                                                                   |\n",
        "|----------------------------------------|------------------------------------------------------------------------------------------------------------|\n",
        "| 1. date, start and end time column has wrong data type | convert to datetime                                            |\n",
        "| 2. display_location has 'Ad' & 'AD' which are the same thing  | replace all 'Ad' with 'AD'                         |\n",
        "| 2. issue 2 | soln2                         |\n"
      ]
    },
    {
      "cell_type": "markdown",
      "metadata": {
        "id": "KZnWtLbK4Nz7"
      },
      "source": [
        "# Data Cleaning\n",
        "\n",
        "Here, we will prepare our data for Univariate and Bivariate analysis."
      ]
    },
    {
      "cell_type": "markdown",
      "metadata": {
        "id": "VND4jVpS4Nz7"
      },
      "source": [
        "## Fixing our issues"
      ]
    },
    {
      "cell_type": "markdown",
      "metadata": {
        "id": "nCQignpE4a_O"
      },
      "source": [
        "1. date column has wrong data type"
      ]
    },
    {
      "cell_type": "code",
      "execution_count": 11,
      "metadata": {},
      "outputs": [],
      "source": [
        "train['date'] = pd.to_datetime(train['date'])"
      ]
    },
    {
      "cell_type": "markdown",
      "metadata": {},
      "source": [
        "2. display_location column in train has values of 'Ad' & 'AD' which are the same thing  | replace all 'Ad' with 'AD' "
      ]
    },
    {
      "cell_type": "code",
      "execution_count": 12,
      "metadata": {},
      "outputs": [],
      "source": [
        "train['display_location'] = train['display_location'].replace('Ad', 'AD')"
      ]
    },
    {
      "cell_type": "markdown",
      "metadata": {},
      "source": [
        "## new test_data"
      ]
    },
    {
      "cell_type": "code",
      "execution_count": 13,
      "metadata": {},
      "outputs": [],
      "source": [
        "cat_columns = ['ad_type','currency','call_type','display_location','call_status']\n",
        "num_columns = ['impressions','cost','conversions','duration','impression_share','conversions_calls','headline1_len','headline2_len','ad_description_len']"
      ]
    },
    {
      "cell_type": "code",
      "execution_count": 14,
      "metadata": {},
      "outputs": [
        {
          "data": {
            "text/html": [
              "<div>\n",
              "<style scoped>\n",
              "    .dataframe tbody tr th:only-of-type {\n",
              "        vertical-align: middle;\n",
              "    }\n",
              "\n",
              "    .dataframe tbody tr th {\n",
              "        vertical-align: top;\n",
              "    }\n",
              "\n",
              "    .dataframe thead th {\n",
              "        text-align: right;\n",
              "    }\n",
              "</style>\n",
              "<table border=\"1\" class=\"dataframe\">\n",
              "  <thead>\n",
              "    <tr style=\"text-align: right;\">\n",
              "      <th></th>\n",
              "      <th>ID</th>\n",
              "      <th>clicks</th>\n",
              "      <th>date</th>\n",
              "      <th>impressions</th>\n",
              "      <th>cost</th>\n",
              "      <th>conversions</th>\n",
              "      <th>duration</th>\n",
              "      <th>impression_share</th>\n",
              "      <th>conversions_calls</th>\n",
              "      <th>headline1_len</th>\n",
              "      <th>headline2_len</th>\n",
              "      <th>ad_description_len</th>\n",
              "    </tr>\n",
              "  </thead>\n",
              "  <tbody>\n",
              "    <tr>\n",
              "      <th>0</th>\n",
              "      <td>ID_5da86e71bf5dee4cf5047046</td>\n",
              "      <td>0</td>\n",
              "      <td>2024-01-22</td>\n",
              "      <td>0</td>\n",
              "      <td>0</td>\n",
              "      <td>0</td>\n",
              "      <td>0</td>\n",
              "      <td>0</td>\n",
              "      <td>0</td>\n",
              "      <td>0</td>\n",
              "      <td>0</td>\n",
              "      <td>0</td>\n",
              "    </tr>\n",
              "    <tr>\n",
              "      <th>1</th>\n",
              "      <td>ID_5da86e71bf5dee4cf5047046</td>\n",
              "      <td>0</td>\n",
              "      <td>2024-01-29</td>\n",
              "      <td>0</td>\n",
              "      <td>0</td>\n",
              "      <td>0</td>\n",
              "      <td>0</td>\n",
              "      <td>0</td>\n",
              "      <td>0</td>\n",
              "      <td>0</td>\n",
              "      <td>0</td>\n",
              "      <td>0</td>\n",
              "    </tr>\n",
              "    <tr>\n",
              "      <th>2</th>\n",
              "      <td>ID_5e43c29e6279884e2827d894</td>\n",
              "      <td>0</td>\n",
              "      <td>2024-02-21</td>\n",
              "      <td>0</td>\n",
              "      <td>0</td>\n",
              "      <td>0</td>\n",
              "      <td>0</td>\n",
              "      <td>0</td>\n",
              "      <td>0</td>\n",
              "      <td>0</td>\n",
              "      <td>0</td>\n",
              "      <td>0</td>\n",
              "    </tr>\n",
              "    <tr>\n",
              "      <th>3</th>\n",
              "      <td>ID_5e43c29e6279884e2827d894</td>\n",
              "      <td>0</td>\n",
              "      <td>2024-02-28</td>\n",
              "      <td>0</td>\n",
              "      <td>0</td>\n",
              "      <td>0</td>\n",
              "      <td>0</td>\n",
              "      <td>0</td>\n",
              "      <td>0</td>\n",
              "      <td>0</td>\n",
              "      <td>0</td>\n",
              "      <td>0</td>\n",
              "    </tr>\n",
              "    <tr>\n",
              "      <th>4</th>\n",
              "      <td>ID_5e4e7b480e374330ee151305</td>\n",
              "      <td>0</td>\n",
              "      <td>2023-12-04</td>\n",
              "      <td>0</td>\n",
              "      <td>0</td>\n",
              "      <td>0</td>\n",
              "      <td>0</td>\n",
              "      <td>0</td>\n",
              "      <td>0</td>\n",
              "      <td>0</td>\n",
              "      <td>0</td>\n",
              "      <td>0</td>\n",
              "    </tr>\n",
              "    <tr>\n",
              "      <th>...</th>\n",
              "      <td>...</td>\n",
              "      <td>...</td>\n",
              "      <td>...</td>\n",
              "      <td>...</td>\n",
              "      <td>...</td>\n",
              "      <td>...</td>\n",
              "      <td>...</td>\n",
              "      <td>...</td>\n",
              "      <td>...</td>\n",
              "      <td>...</td>\n",
              "      <td>...</td>\n",
              "      <td>...</td>\n",
              "    </tr>\n",
              "    <tr>\n",
              "      <th>365</th>\n",
              "      <td>ID_6568807cbb9c4d235c5dd9a8</td>\n",
              "      <td>0</td>\n",
              "      <td>2024-02-06</td>\n",
              "      <td>0</td>\n",
              "      <td>0</td>\n",
              "      <td>0</td>\n",
              "      <td>0</td>\n",
              "      <td>0</td>\n",
              "      <td>0</td>\n",
              "      <td>0</td>\n",
              "      <td>0</td>\n",
              "      <td>0</td>\n",
              "    </tr>\n",
              "    <tr>\n",
              "      <th>366</th>\n",
              "      <td>ID_65a7bf329fa4627faf28390c</td>\n",
              "      <td>0</td>\n",
              "      <td>2024-02-21</td>\n",
              "      <td>0</td>\n",
              "      <td>0</td>\n",
              "      <td>0</td>\n",
              "      <td>0</td>\n",
              "      <td>0</td>\n",
              "      <td>0</td>\n",
              "      <td>0</td>\n",
              "      <td>0</td>\n",
              "      <td>0</td>\n",
              "    </tr>\n",
              "    <tr>\n",
              "      <th>367</th>\n",
              "      <td>ID_65a7bf329fa4627faf28390c</td>\n",
              "      <td>0</td>\n",
              "      <td>2024-02-28</td>\n",
              "      <td>0</td>\n",
              "      <td>0</td>\n",
              "      <td>0</td>\n",
              "      <td>0</td>\n",
              "      <td>0</td>\n",
              "      <td>0</td>\n",
              "      <td>0</td>\n",
              "      <td>0</td>\n",
              "      <td>0</td>\n",
              "    </tr>\n",
              "    <tr>\n",
              "      <th>368</th>\n",
              "      <td>ID_65b0f65c7fe62e56c5593d55</td>\n",
              "      <td>0</td>\n",
              "      <td>2024-02-21</td>\n",
              "      <td>0</td>\n",
              "      <td>0</td>\n",
              "      <td>0</td>\n",
              "      <td>0</td>\n",
              "      <td>0</td>\n",
              "      <td>0</td>\n",
              "      <td>0</td>\n",
              "      <td>0</td>\n",
              "      <td>0</td>\n",
              "    </tr>\n",
              "    <tr>\n",
              "      <th>369</th>\n",
              "      <td>ID_65b0f65c7fe62e56c5593d55</td>\n",
              "      <td>0</td>\n",
              "      <td>2024-02-28</td>\n",
              "      <td>0</td>\n",
              "      <td>0</td>\n",
              "      <td>0</td>\n",
              "      <td>0</td>\n",
              "      <td>0</td>\n",
              "      <td>0</td>\n",
              "      <td>0</td>\n",
              "      <td>0</td>\n",
              "      <td>0</td>\n",
              "    </tr>\n",
              "  </tbody>\n",
              "</table>\n",
              "<p>370 rows × 12 columns</p>\n",
              "</div>"
            ],
            "text/plain": [
              "                              ID  clicks       date  impressions  cost  \\\n",
              "0    ID_5da86e71bf5dee4cf5047046       0 2024-01-22            0     0   \n",
              "1    ID_5da86e71bf5dee4cf5047046       0 2024-01-29            0     0   \n",
              "2    ID_5e43c29e6279884e2827d894       0 2024-02-21            0     0   \n",
              "3    ID_5e43c29e6279884e2827d894       0 2024-02-28            0     0   \n",
              "4    ID_5e4e7b480e374330ee151305       0 2023-12-04            0     0   \n",
              "..                           ...     ...        ...          ...   ...   \n",
              "365  ID_6568807cbb9c4d235c5dd9a8       0 2024-02-06            0     0   \n",
              "366  ID_65a7bf329fa4627faf28390c       0 2024-02-21            0     0   \n",
              "367  ID_65a7bf329fa4627faf28390c       0 2024-02-28            0     0   \n",
              "368  ID_65b0f65c7fe62e56c5593d55       0 2024-02-21            0     0   \n",
              "369  ID_65b0f65c7fe62e56c5593d55       0 2024-02-28            0     0   \n",
              "\n",
              "     conversions  duration  impression_share  conversions_calls  \\\n",
              "0              0         0                 0                  0   \n",
              "1              0         0                 0                  0   \n",
              "2              0         0                 0                  0   \n",
              "3              0         0                 0                  0   \n",
              "4              0         0                 0                  0   \n",
              "..           ...       ...               ...                ...   \n",
              "365            0         0                 0                  0   \n",
              "366            0         0                 0                  0   \n",
              "367            0         0                 0                  0   \n",
              "368            0         0                 0                  0   \n",
              "369            0         0                 0                  0   \n",
              "\n",
              "     headline1_len  headline2_len  ad_description_len  \n",
              "0                0              0                   0  \n",
              "1                0              0                   0  \n",
              "2                0              0                   0  \n",
              "3                0              0                   0  \n",
              "4                0              0                   0  \n",
              "..             ...            ...                 ...  \n",
              "365              0              0                   0  \n",
              "366              0              0                   0  \n",
              "367              0              0                   0  \n",
              "368              0              0                   0  \n",
              "369              0              0                   0  \n",
              "\n",
              "[370 rows x 12 columns]"
            ]
          },
          "execution_count": 14,
          "metadata": {},
          "output_type": "execute_result"
        }
      ],
      "source": [
        "# create test_new df\n",
        "sample_new = sample.copy()\n",
        "# Step 1: Split 'ID' column into 'ID' and 'date'\n",
        "sample_new['ID'] = sample['ID'].str[:-11]  \n",
        "sample_new['date'] = sample['ID'].str[-10:]  \n",
        "sample_new['date'] = pd.to_datetime(sample_new['date'], format='%Y_%m_%d')\n",
        "\n",
        "# Step 2: Create numeric columns and set their values to zero\n",
        "sample_new[num_columns] = 0\n",
        "sample_new"
      ]
    },
    {
      "cell_type": "code",
      "execution_count": 15,
      "metadata": {},
      "outputs": [
        {
          "data": {
            "text/html": [
              "<div>\n",
              "<style scoped>\n",
              "    .dataframe tbody tr th:only-of-type {\n",
              "        vertical-align: middle;\n",
              "    }\n",
              "\n",
              "    .dataframe tbody tr th {\n",
              "        vertical-align: top;\n",
              "    }\n",
              "\n",
              "    .dataframe thead th {\n",
              "        text-align: right;\n",
              "    }\n",
              "</style>\n",
              "<table border=\"1\" class=\"dataframe\">\n",
              "  <thead>\n",
              "    <tr style=\"text-align: right;\">\n",
              "      <th></th>\n",
              "      <th>ID</th>\n",
              "      <th>clicks</th>\n",
              "      <th>date</th>\n",
              "      <th>impressions</th>\n",
              "      <th>cost</th>\n",
              "      <th>conversions</th>\n",
              "      <th>duration</th>\n",
              "      <th>impression_share</th>\n",
              "      <th>conversions_calls</th>\n",
              "      <th>headline1_len</th>\n",
              "      <th>headline2_len</th>\n",
              "      <th>ad_description_len</th>\n",
              "      <th>ad_type</th>\n",
              "      <th>currency</th>\n",
              "      <th>call_type</th>\n",
              "      <th>display_location</th>\n",
              "      <th>call_status</th>\n",
              "    </tr>\n",
              "  </thead>\n",
              "  <tbody>\n",
              "    <tr>\n",
              "      <th>0</th>\n",
              "      <td>ID_5da86e71bf5dee4cf5047046</td>\n",
              "      <td>0</td>\n",
              "      <td>2024-01-22</td>\n",
              "      <td>0</td>\n",
              "      <td>0</td>\n",
              "      <td>0</td>\n",
              "      <td>0</td>\n",
              "      <td>0</td>\n",
              "      <td>0</td>\n",
              "      <td>0</td>\n",
              "      <td>0</td>\n",
              "      <td>0</td>\n",
              "      <td>NaN</td>\n",
              "      <td>NaN</td>\n",
              "      <td>NaN</td>\n",
              "      <td>NaN</td>\n",
              "      <td>NaN</td>\n",
              "    </tr>\n",
              "    <tr>\n",
              "      <th>1</th>\n",
              "      <td>ID_5da86e71bf5dee4cf5047046</td>\n",
              "      <td>0</td>\n",
              "      <td>2024-01-29</td>\n",
              "      <td>0</td>\n",
              "      <td>0</td>\n",
              "      <td>0</td>\n",
              "      <td>0</td>\n",
              "      <td>0</td>\n",
              "      <td>0</td>\n",
              "      <td>0</td>\n",
              "      <td>0</td>\n",
              "      <td>0</td>\n",
              "      <td>NaN</td>\n",
              "      <td>NaN</td>\n",
              "      <td>NaN</td>\n",
              "      <td>NaN</td>\n",
              "      <td>NaN</td>\n",
              "    </tr>\n",
              "    <tr>\n",
              "      <th>2</th>\n",
              "      <td>ID_5e43c29e6279884e2827d894</td>\n",
              "      <td>0</td>\n",
              "      <td>2024-02-21</td>\n",
              "      <td>0</td>\n",
              "      <td>0</td>\n",
              "      <td>0</td>\n",
              "      <td>0</td>\n",
              "      <td>0</td>\n",
              "      <td>0</td>\n",
              "      <td>0</td>\n",
              "      <td>0</td>\n",
              "      <td>0</td>\n",
              "      <td>NaN</td>\n",
              "      <td>NaN</td>\n",
              "      <td>NaN</td>\n",
              "      <td>NaN</td>\n",
              "      <td>NaN</td>\n",
              "    </tr>\n",
              "    <tr>\n",
              "      <th>3</th>\n",
              "      <td>ID_5e43c29e6279884e2827d894</td>\n",
              "      <td>0</td>\n",
              "      <td>2024-02-28</td>\n",
              "      <td>0</td>\n",
              "      <td>0</td>\n",
              "      <td>0</td>\n",
              "      <td>0</td>\n",
              "      <td>0</td>\n",
              "      <td>0</td>\n",
              "      <td>0</td>\n",
              "      <td>0</td>\n",
              "      <td>0</td>\n",
              "      <td>NaN</td>\n",
              "      <td>NaN</td>\n",
              "      <td>NaN</td>\n",
              "      <td>NaN</td>\n",
              "      <td>NaN</td>\n",
              "    </tr>\n",
              "    <tr>\n",
              "      <th>4</th>\n",
              "      <td>ID_5e4e7b480e374330ee151305</td>\n",
              "      <td>0</td>\n",
              "      <td>2023-12-04</td>\n",
              "      <td>0</td>\n",
              "      <td>0</td>\n",
              "      <td>0</td>\n",
              "      <td>0</td>\n",
              "      <td>0</td>\n",
              "      <td>0</td>\n",
              "      <td>0</td>\n",
              "      <td>0</td>\n",
              "      <td>0</td>\n",
              "      <td>NaN</td>\n",
              "      <td>NaN</td>\n",
              "      <td>NaN</td>\n",
              "      <td>NaN</td>\n",
              "      <td>NaN</td>\n",
              "    </tr>\n",
              "  </tbody>\n",
              "</table>\n",
              "</div>"
            ],
            "text/plain": [
              "                            ID  clicks       date  impressions  cost  \\\n",
              "0  ID_5da86e71bf5dee4cf5047046       0 2024-01-22            0     0   \n",
              "1  ID_5da86e71bf5dee4cf5047046       0 2024-01-29            0     0   \n",
              "2  ID_5e43c29e6279884e2827d894       0 2024-02-21            0     0   \n",
              "3  ID_5e43c29e6279884e2827d894       0 2024-02-28            0     0   \n",
              "4  ID_5e4e7b480e374330ee151305       0 2023-12-04            0     0   \n",
              "\n",
              "   conversions  duration  impression_share  conversions_calls  headline1_len  \\\n",
              "0            0         0                 0                  0              0   \n",
              "1            0         0                 0                  0              0   \n",
              "2            0         0                 0                  0              0   \n",
              "3            0         0                 0                  0              0   \n",
              "4            0         0                 0                  0              0   \n",
              "\n",
              "   headline2_len  ad_description_len  ad_type  currency  call_type  \\\n",
              "0              0                   0      NaN       NaN        NaN   \n",
              "1              0                   0      NaN       NaN        NaN   \n",
              "2              0                   0      NaN       NaN        NaN   \n",
              "3              0                   0      NaN       NaN        NaN   \n",
              "4              0                   0      NaN       NaN        NaN   \n",
              "\n",
              "   display_location  call_status  \n",
              "0               NaN          NaN  \n",
              "1               NaN          NaN  \n",
              "2               NaN          NaN  \n",
              "3               NaN          NaN  \n",
              "4               NaN          NaN  "
            ]
          },
          "execution_count": 15,
          "metadata": {},
          "output_type": "execute_result"
        }
      ],
      "source": [
        "# Step 3: Create categorical columns and set their values randomly from 'train'\n",
        "for col in cat_columns:\n",
        "    # sample_new[col] = np.random.choice(train[col].unique(), size=len(sample_new))\n",
        "    sample_new[col] = np.nan\n",
        "\n",
        "# Now 'sample_new' DataFrame has been modified as 'test_new'\n",
        "test_new = sample_new\n",
        "test_new.head()"
      ]
    },
    {
      "cell_type": "code",
      "execution_count": 16,
      "metadata": {},
      "outputs": [
        {
          "data": {
            "text/html": [
              "<div>\n",
              "<style scoped>\n",
              "    .dataframe tbody tr th:only-of-type {\n",
              "        vertical-align: middle;\n",
              "    }\n",
              "\n",
              "    .dataframe tbody tr th {\n",
              "        vertical-align: top;\n",
              "    }\n",
              "\n",
              "    .dataframe thead th {\n",
              "        text-align: right;\n",
              "    }\n",
              "</style>\n",
              "<table border=\"1\" class=\"dataframe\">\n",
              "  <thead>\n",
              "    <tr style=\"text-align: right;\">\n",
              "      <th></th>\n",
              "      <th>impressions</th>\n",
              "      <th>clicks</th>\n",
              "      <th>cost</th>\n",
              "      <th>conversions</th>\n",
              "      <th>ad_type</th>\n",
              "      <th>currency</th>\n",
              "      <th>ID</th>\n",
              "      <th>date</th>\n",
              "      <th>call_type</th>\n",
              "      <th>call_status</th>\n",
              "      <th>duration</th>\n",
              "      <th>display_location</th>\n",
              "      <th>impression_share</th>\n",
              "      <th>conversions_calls</th>\n",
              "      <th>headline1_len</th>\n",
              "      <th>headline2_len</th>\n",
              "      <th>ad_description_len</th>\n",
              "    </tr>\n",
              "  </thead>\n",
              "  <tbody>\n",
              "    <tr>\n",
              "      <th>0</th>\n",
              "      <td>142.0</td>\n",
              "      <td>15.0</td>\n",
              "      <td>3393.0</td>\n",
              "      <td>0.0</td>\n",
              "      <td>EXPANDED_TEXT_AD</td>\n",
              "      <td>ZAR</td>\n",
              "      <td>ID_5da86e71bf5dee4cf5047046</td>\n",
              "      <td>2020-01-01</td>\n",
              "      <td>NaN</td>\n",
              "      <td>NaN</td>\n",
              "      <td>NaN</td>\n",
              "      <td>NaN</td>\n",
              "      <td>16.279669</td>\n",
              "      <td>0.0</td>\n",
              "      <td>2.0</td>\n",
              "      <td>5.0</td>\n",
              "      <td>11.0</td>\n",
              "    </tr>\n",
              "  </tbody>\n",
              "</table>\n",
              "</div>"
            ],
            "text/plain": [
              "   impressions  clicks    cost  conversions           ad_type currency  \\\n",
              "0        142.0    15.0  3393.0          0.0  EXPANDED_TEXT_AD      ZAR   \n",
              "\n",
              "                            ID       date call_type call_status  duration  \\\n",
              "0  ID_5da86e71bf5dee4cf5047046 2020-01-01       NaN         NaN       NaN   \n",
              "\n",
              "  display_location  impression_share  conversions_calls  headline1_len  \\\n",
              "0              NaN         16.279669                0.0            2.0   \n",
              "\n",
              "   headline2_len  ad_description_len  \n",
              "0            5.0                11.0  "
            ]
          },
          "execution_count": 16,
          "metadata": {},
          "output_type": "execute_result"
        }
      ],
      "source": [
        "train.head(1)"
      ]
    },
    {
      "cell_type": "code",
      "execution_count": 17,
      "metadata": {},
      "outputs": [],
      "source": [
        "# Iterate over columns in test_new and convert data types to match train\n",
        "for column in test_new.columns:\n",
        "    if column in train.columns:\n",
        "        test_new[column] = test_new[column].astype(train[column].dtype)"
      ]
    },
    {
      "cell_type": "code",
      "execution_count": 18,
      "metadata": {},
      "outputs": [
        {
          "data": {
            "text/html": [
              "<div>\n",
              "<style scoped>\n",
              "    .dataframe tbody tr th:only-of-type {\n",
              "        vertical-align: middle;\n",
              "    }\n",
              "\n",
              "    .dataframe tbody tr th {\n",
              "        vertical-align: top;\n",
              "    }\n",
              "\n",
              "    .dataframe thead th {\n",
              "        text-align: right;\n",
              "    }\n",
              "</style>\n",
              "<table border=\"1\" class=\"dataframe\">\n",
              "  <thead>\n",
              "    <tr style=\"text-align: right;\">\n",
              "      <th></th>\n",
              "      <th>impressions</th>\n",
              "      <th>clicks</th>\n",
              "      <th>cost</th>\n",
              "      <th>conversions</th>\n",
              "      <th>ad_type</th>\n",
              "      <th>currency</th>\n",
              "      <th>ID</th>\n",
              "      <th>date</th>\n",
              "      <th>call_type</th>\n",
              "      <th>call_status</th>\n",
              "      <th>duration</th>\n",
              "      <th>display_location</th>\n",
              "      <th>impression_share</th>\n",
              "      <th>conversions_calls</th>\n",
              "      <th>headline1_len</th>\n",
              "      <th>headline2_len</th>\n",
              "      <th>ad_description_len</th>\n",
              "    </tr>\n",
              "  </thead>\n",
              "  <tbody>\n",
              "    <tr>\n",
              "      <th>290291</th>\n",
              "      <td>0.0</td>\n",
              "      <td>0.0</td>\n",
              "      <td>0.0</td>\n",
              "      <td>0.0</td>\n",
              "      <td>NaN</td>\n",
              "      <td>NaN</td>\n",
              "      <td>ID_6568807cbb9c4d235c5dd9a8</td>\n",
              "      <td>2024-02-06</td>\n",
              "      <td>NaN</td>\n",
              "      <td>NaN</td>\n",
              "      <td>0.0</td>\n",
              "      <td>NaN</td>\n",
              "      <td>0.0</td>\n",
              "      <td>0.0</td>\n",
              "      <td>0.0</td>\n",
              "      <td>0.0</td>\n",
              "      <td>0.0</td>\n",
              "    </tr>\n",
              "    <tr>\n",
              "      <th>290292</th>\n",
              "      <td>0.0</td>\n",
              "      <td>0.0</td>\n",
              "      <td>0.0</td>\n",
              "      <td>0.0</td>\n",
              "      <td>NaN</td>\n",
              "      <td>NaN</td>\n",
              "      <td>ID_65a7bf329fa4627faf28390c</td>\n",
              "      <td>2024-02-21</td>\n",
              "      <td>NaN</td>\n",
              "      <td>NaN</td>\n",
              "      <td>0.0</td>\n",
              "      <td>NaN</td>\n",
              "      <td>0.0</td>\n",
              "      <td>0.0</td>\n",
              "      <td>0.0</td>\n",
              "      <td>0.0</td>\n",
              "      <td>0.0</td>\n",
              "    </tr>\n",
              "    <tr>\n",
              "      <th>290293</th>\n",
              "      <td>0.0</td>\n",
              "      <td>0.0</td>\n",
              "      <td>0.0</td>\n",
              "      <td>0.0</td>\n",
              "      <td>NaN</td>\n",
              "      <td>NaN</td>\n",
              "      <td>ID_65a7bf329fa4627faf28390c</td>\n",
              "      <td>2024-02-28</td>\n",
              "      <td>NaN</td>\n",
              "      <td>NaN</td>\n",
              "      <td>0.0</td>\n",
              "      <td>NaN</td>\n",
              "      <td>0.0</td>\n",
              "      <td>0.0</td>\n",
              "      <td>0.0</td>\n",
              "      <td>0.0</td>\n",
              "      <td>0.0</td>\n",
              "    </tr>\n",
              "    <tr>\n",
              "      <th>290294</th>\n",
              "      <td>0.0</td>\n",
              "      <td>0.0</td>\n",
              "      <td>0.0</td>\n",
              "      <td>0.0</td>\n",
              "      <td>NaN</td>\n",
              "      <td>NaN</td>\n",
              "      <td>ID_65b0f65c7fe62e56c5593d55</td>\n",
              "      <td>2024-02-21</td>\n",
              "      <td>NaN</td>\n",
              "      <td>NaN</td>\n",
              "      <td>0.0</td>\n",
              "      <td>NaN</td>\n",
              "      <td>0.0</td>\n",
              "      <td>0.0</td>\n",
              "      <td>0.0</td>\n",
              "      <td>0.0</td>\n",
              "      <td>0.0</td>\n",
              "    </tr>\n",
              "    <tr>\n",
              "      <th>290295</th>\n",
              "      <td>0.0</td>\n",
              "      <td>0.0</td>\n",
              "      <td>0.0</td>\n",
              "      <td>0.0</td>\n",
              "      <td>NaN</td>\n",
              "      <td>NaN</td>\n",
              "      <td>ID_65b0f65c7fe62e56c5593d55</td>\n",
              "      <td>2024-02-28</td>\n",
              "      <td>NaN</td>\n",
              "      <td>NaN</td>\n",
              "      <td>0.0</td>\n",
              "      <td>NaN</td>\n",
              "      <td>0.0</td>\n",
              "      <td>0.0</td>\n",
              "      <td>0.0</td>\n",
              "      <td>0.0</td>\n",
              "      <td>0.0</td>\n",
              "    </tr>\n",
              "  </tbody>\n",
              "</table>\n",
              "</div>"
            ],
            "text/plain": [
              "        impressions  clicks  cost  conversions ad_type currency  \\\n",
              "290291          0.0     0.0   0.0          0.0     NaN      NaN   \n",
              "290292          0.0     0.0   0.0          0.0     NaN      NaN   \n",
              "290293          0.0     0.0   0.0          0.0     NaN      NaN   \n",
              "290294          0.0     0.0   0.0          0.0     NaN      NaN   \n",
              "290295          0.0     0.0   0.0          0.0     NaN      NaN   \n",
              "\n",
              "                                 ID       date call_type call_status  \\\n",
              "290291  ID_6568807cbb9c4d235c5dd9a8 2024-02-06       NaN         NaN   \n",
              "290292  ID_65a7bf329fa4627faf28390c 2024-02-21       NaN         NaN   \n",
              "290293  ID_65a7bf329fa4627faf28390c 2024-02-28       NaN         NaN   \n",
              "290294  ID_65b0f65c7fe62e56c5593d55 2024-02-21       NaN         NaN   \n",
              "290295  ID_65b0f65c7fe62e56c5593d55 2024-02-28       NaN         NaN   \n",
              "\n",
              "        duration display_location  impression_share  conversions_calls  \\\n",
              "290291       0.0              NaN               0.0                0.0   \n",
              "290292       0.0              NaN               0.0                0.0   \n",
              "290293       0.0              NaN               0.0                0.0   \n",
              "290294       0.0              NaN               0.0                0.0   \n",
              "290295       0.0              NaN               0.0                0.0   \n",
              "\n",
              "        headline1_len  headline2_len  ad_description_len  \n",
              "290291            0.0            0.0                 0.0  \n",
              "290292            0.0            0.0                 0.0  \n",
              "290293            0.0            0.0                 0.0  \n",
              "290294            0.0            0.0                 0.0  \n",
              "290295            0.0            0.0                 0.0  "
            ]
          },
          "execution_count": 18,
          "metadata": {},
          "output_type": "execute_result"
        }
      ],
      "source": [
        "concatenated_df = pd.concat([train, test_new], ignore_index=True)\n",
        "concatenated_df.tail()"
      ]
    },
    {
      "cell_type": "code",
      "execution_count": 19,
      "metadata": {},
      "outputs": [
        {
          "name": "stdout",
          "output_type": "stream",
          "text": [
            "train: (289926, 17) test_new: (370, 17) concatenated_df: (290296, 17)\n"
          ]
        }
      ],
      "source": [
        "print(\"train:\", train.shape, \"test_new:\", test_new.shape, \"concatenated_df:\", concatenated_df.shape)"
      ]
    },
    {
      "cell_type": "code",
      "execution_count": 20,
      "metadata": {},
      "outputs": [],
      "source": [
        "train = concatenated_df"
      ]
    },
    {
      "cell_type": "code",
      "execution_count": 21,
      "metadata": {},
      "outputs": [],
      "source": [
        "# make sure sorted by date\n",
        "train = train.sort_values('date')"
      ]
    },
    {
      "cell_type": "code",
      "execution_count": 22,
      "metadata": {},
      "outputs": [
        {
          "name": "stdout",
          "output_type": "stream",
          "text": [
            "we have 3 dates missing out of 290296\n",
            "start: 2020-01-01 00:00:00, end: 2024-02-28 00:00:00\n"
          ]
        },
        {
          "data": {
            "text/plain": [
              "DatetimeIndex(['2024-02-16', '2024-02-23', '2024-02-25'], dtype='datetime64[ns]', freq=None)"
            ]
          },
          "execution_count": 22,
          "metadata": {},
          "output_type": "execute_result"
        }
      ],
      "source": [
        "# create a function to check for missing extracted dates\n",
        "def get_missing_dates(df):\n",
        "  col = df.date\n",
        "  missing_dates = (pd.date_range(\n",
        "\n",
        "      start=col.min(), #start date\n",
        "      end=col.max())   #end_date\n",
        "      .difference(col))\n",
        "  print(f\"we have {len(missing_dates)} dates missing out of {len(col)}\")\n",
        "  print(f\"start: {col.min()}, end: {col.max()}\")\n",
        "  return missing_dates\n",
        "get_missing_dates(train)"
      ]
    },
    {
      "cell_type": "markdown",
      "metadata": {
        "id": "nmZ1QBT54N0P"
      },
      "source": [
        "## Drop Duplicates"
      ]
    },
    {
      "cell_type": "code",
      "execution_count": 23,
      "metadata": {
        "id": "f_muKXb1DvRi"
      },
      "outputs": [],
      "source": [
        "train.drop_duplicates(inplace=True)"
      ]
    },
    {
      "cell_type": "markdown",
      "metadata": {
        "id": "AGnoifAP4N0P"
      },
      "source": [
        "## Impute Missing Values"
      ]
    },
    {
      "cell_type": "code",
      "execution_count": 24,
      "metadata": {
        "colab": {
          "base_uri": "https://localhost:8080/"
        },
        "id": "d57DfF5_Jhaw",
        "outputId": "c2f48e46-c174-4eb1-ff9d-7af95ad96112"
      },
      "outputs": [
        {
          "name": "stdout",
          "output_type": "stream",
          "text": [
            "impressions              400\n",
            "clicks                   400\n",
            "cost                     400\n",
            "conversions              400\n",
            "ad_type                  770\n",
            "currency                 770\n",
            "ID                         0\n",
            "date                       0\n",
            "call_type             253174\n",
            "call_status           253174\n",
            "duration              252804\n",
            "display_location      253174\n",
            "impression_share           0\n",
            "conversions_calls       9841\n",
            "headline1_len            400\n",
            "headline2_len            400\n",
            "ad_description_len       400\n",
            "dtype: int64\n"
          ]
        }
      ],
      "source": [
        "print(train.isnull().sum())"
      ]
    },
    {
      "cell_type": "code",
      "execution_count": 25,
      "metadata": {},
      "outputs": [
        {
          "data": {
            "image/png": "[encoded data removed]",
            "text/plain": [
              "<Figure size 640x480 with 1 Axes>"
            ]
          },
          "metadata": {},
          "output_type": "display_data"
        }
      ],
      "source": [
        "sns.heatmap(train.isnull(), cbar=False)\n",
        "plt.show()"
      ]
    },
    {
      "cell_type": "code",
      "execution_count": 26,
      "metadata": {},
      "outputs": [],
      "source": [
        "train = train.fillna(method='ffill')\n",
        "train = train.fillna(method='bfill')"
      ]
    },
    {
      "cell_type": "code",
      "execution_count": 27,
      "metadata": {},
      "outputs": [],
      "source": [
        "# train = train.interpolate(method ='linear') # limit_direction : {‘forward’, ‘backward’, ‘both’},\n",
        "# train = train.interpolate(method ='time')\n",
        "# train = train.interpolate(method ='slinear')\n",
        "# train = train.interpolate(method ='spline')"
      ]
    },
    {
      "cell_type": "markdown",
      "metadata": {
        "id": "sIWpPR144N0Q"
      },
      "source": [
        "# Exploratory Data Analysis: EDA"
      ]
    },
    {
      "cell_type": "markdown",
      "metadata": {
        "id": "RD0uSjg0Mcck"
      },
      "source": [
        "## Hypothesis Validation\n",
        "**H0**: \n",
        "\n",
        "**H1**: "
      ]
    },
    {
      "cell_type": "markdown",
      "metadata": {
        "id": "z6nLfhO94N0Q"
      },
      "source": [
        "## Answering Questions"
      ]
    },
    {
      "cell_type": "markdown",
      "metadata": {
        "id": "ua7G3f6VK1hu"
      },
      "source": [
        "2. Do we have seasonality in our sales?"
      ]
    },
    {
      "cell_type": "code",
      "execution_count": 28,
      "metadata": {
        "id": "jNTmmpjQC9d2"
      },
      "outputs": [],
      "source": [
        "# Assuming your time series data is stored in the variable 'sales_data'\n",
        "sales_data = train['clicks']"
      ]
    },
    {
      "cell_type": "code",
      "execution_count": 29,
      "metadata": {
        "id": "7udcLL2CDLjy"
      },
      "outputs": [],
      "source": [
        "# Perform KPSS test\n",
        "kpss_result = kpss(sales_data)\n",
        "kpss_statistic = kpss_result[0]\n",
        "kpss_pvalue = kpss_result[1]\n",
        "kpss_critical_values = kpss_result[3]"
      ]
    },
    {
      "cell_type": "code",
      "execution_count": 30,
      "metadata": {
        "colab": {
          "base_uri": "https://localhost:8080/"
        },
        "id": "OD16D9Ka_1DZ",
        "outputId": "00e38b80-7ba5-4287-b833-61a3ea6ad942"
      },
      "outputs": [
        {
          "name": "stdout",
          "output_type": "stream",
          "text": [
            "\n",
            "KPSS Test:\n",
            "KPSS Statistic: 15.753765337153029\n",
            "p-value: 0.01\n"
          ]
        }
      ],
      "source": [
        "print(\"\\nKPSS Test:\")\n",
        "print(\"KPSS Statistic:\", kpss_statistic)\n",
        "print(\"p-value:\", kpss_pvalue)"
      ]
    },
    {
      "cell_type": "markdown",
      "metadata": {
        "id": "_tP01NM6wCxb"
      },
      "source": [
        "stationary if p-value > 0.05\n",
        "\n",
        "series is stationary since 0.01 < 0.05"
      ]
    },
    {
      "cell_type": "markdown",
      "metadata": {
        "id": "Va6nmkLbwCxc"
      },
      "source": [
        "### Checking for Stationarity of the Train Dataset"
      ]
    },
    {
      "cell_type": "code",
      "execution_count": 31,
      "metadata": {},
      "outputs": [
        {
          "data": {
            "image/png": "[encoded data removed]",
            "text/plain": [
              "<Figure size 1000x400 with 1 Axes>"
            ]
          },
          "metadata": {},
          "output_type": "display_data"
        }
      ],
      "source": [
        "# Plot the series\n",
        "plt.figure(figsize=(10,4))\n",
        "plt.plot(train.set_index('date')['clicks'], linestyle='-')\n",
        "\n",
        "plt.title('Clicks over Time')\n",
        "# Show plot\n",
        "plt.show()"
      ]
    },
    {
      "cell_type": "code",
      "execution_count": 32,
      "metadata": {},
      "outputs": [
        {
          "data": {
            "image/png": "[encoded data removed]",
            "text/plain": [
              "<Figure size 1000x400 with 1 Axes>"
            ]
          },
          "metadata": {},
          "output_type": "display_data"
        }
      ],
      "source": [
        "# Resample to monthly data and calculate the mean clicks per month\n",
        "train_resampled = train.resample('D', on='date')['clicks'].mean()\n",
        "\n",
        "# Plot the time series\n",
        "plt.figure(figsize=(10, 4))\n",
        "plt.plot(train_resampled, linestyle='-')  # Plot the resampled monthly clicks\n",
        "\n",
        "# Add a title\n",
        "plt.title('Daily Trend in Clicks')\n",
        "\n",
        "# Show the plot\n",
        "plt.grid(True)\n",
        "plt.show()\n"
      ]
    },
    {
      "cell_type": "markdown",
      "metadata": {},
      "source": [
        "there is no trend in our series"
      ]
    },
    {
      "cell_type": "markdown",
      "metadata": {
        "id": "BRYQFGKGK0Ny"
      },
      "source": [
        "3. Are there outliers in our dataset?"
      ]
    },
    {
      "cell_type": "markdown",
      "metadata": {
        "id": "DO8E9bunKxvg"
      },
      "source": [
        "4. What is the difference between RMSLE, RMSE and MSE?"
      ]
    },
    {
      "cell_type": "markdown",
      "metadata": {
        "id": "S0ASY2Id4N0T"
      },
      "source": [
        "## Univariate Analysis"
      ]
    },
    {
      "cell_type": "markdown",
      "metadata": {
        "id": "lycj1Mjo4N0U"
      },
      "source": [
        "## Bivariate Analysis"
      ]
    },
    {
      "cell_type": "code",
      "execution_count": 33,
      "metadata": {
        "colab": {
          "base_uri": "https://localhost:8080/"
        },
        "id": "wPK3gua_wCxe",
        "outputId": "dbce24d2-acae-4411-c80f-9daa27af332f"
      },
      "outputs": [
        {
          "name": "stdout",
          "output_type": "stream",
          "text": [
            "impressions and clicks are moderately correlated (correlation value: 0.7354710409964827)\n",
            "clicks and impressions are moderately correlated (correlation value: 0.7354710409964827)\n",
            "headline1_len and ad_description_len are moderately correlated (correlation value: 0.5859558968622809)\n",
            "headline2_len and ad_description_len are moderately correlated (correlation value: 0.5545605782578229)\n",
            "ad_description_len and headline1_len are moderately correlated (correlation value: 0.5859558968622809)\n",
            "ad_description_len and headline2_len are moderately correlated (correlation value: 0.5545605782578229)\n"
          ]
        }
      ],
      "source": [
        "# Calculate the correlation matrix\n",
        "correlation_matrix = train[numeric_columns].corr()\n",
        "\n",
        "# Find the moderately correlated variables\n",
        "moderate_correlation = (correlation_matrix.abs() > 0.5) & (correlation_matrix != 1) & (correlation_matrix <0.8)\n",
        "\n",
        "# Get the variable pairs with moderate correlation\n",
        "moderate_correlation_pairs = [(i, j) for i in moderate_correlation.columns for j in moderate_correlation.columns if moderate_correlation.loc[i, j]]\n",
        "\n",
        "# Print the moderately correlated variables\n",
        "for pair in moderate_correlation_pairs:\n",
        "    var1, var2 = pair\n",
        "    correlation_value = correlation_matrix.loc[var1, var2]\n",
        "    print(f\"{var1} and {var2} are moderately correlated (correlation value: {correlation_value})\")"
      ]
    },
    {
      "cell_type": "markdown",
      "metadata": {
        "id": "6GmpRhjT4N0V"
      },
      "source": [
        "# Feature Engineering"
      ]
    },
    {
      "cell_type": "markdown",
      "metadata": {
        "id": "nDXigCJl4N0V"
      },
      "source": [
        "## Creating New Features"
      ]
    },
    {
      "cell_type": "code",
      "execution_count": 34,
      "metadata": {},
      "outputs": [],
      "source": [
        "# time since previous ad_secs\n",
        "# ad_duration_secs \n",
        "# start_time_secs, end_time_secs"
      ]
    },
    {
      "cell_type": "markdown",
      "metadata": {
        "id": "3FVGY23N4N0c"
      },
      "source": [
        "## Features Encoding & scaling"
      ]
    },
    {
      "cell_type": "code",
      "execution_count": 35,
      "metadata": {},
      "outputs": [],
      "source": [
        "train.set_index('date', inplace=True)"
      ]
    },
    {
      "cell_type": "code",
      "execution_count": 36,
      "metadata": {},
      "outputs": [],
      "source": [
        "# categoric_columns.remove('ID')\n",
        "# # Resample numerical columns by daily sum\n",
        "# resampled_numerical = train[numeric_columns].resample('D').sum()\n",
        "\n",
        "# # Find the most frequent category for each categorical column for each day\n",
        "# resampled_categorical = pd.concat([train[col].resample('D').agg(lambda x: x.value_counts().idxmax() if len(x.value_counts()) else None) for col in categoric_columns], axis=1)\n",
        "\n",
        "# # Concatenate numerical and categorical resampled DataFrames\n",
        "# resampled_train = pd.concat([resampled_numerical, resampled_categorical], axis=1)\n",
        "\n",
        "# # Reset index to make 'date' a column again\n",
        "# # resampled_train.reset_index(inplace=True)\n",
        "# categoric_columns.append('ID')\n",
        "# train = resampled_train\n",
        "# resampled_train"
      ]
    },
    {
      "cell_type": "code",
      "execution_count": 37,
      "metadata": {},
      "outputs": [
        {
          "name": "stdout",
          "output_type": "stream",
          "text": [
            "ad_type 3 ['EXPANDED_TEXT_AD' 'EXPANDED_DYNAMIC_SEARCH_AD' 'RESPONSIVE_SEARCH_AD']\n",
            "currency 2 ['ZAR' 'USD']\n",
            "ID 185 ['ID_5da86e71bf5dee4cf5047046' 'ID_5e43c29e6279884e2827d894'\n",
            " 'ID_5e4e7b480e374330ee151305' 'ID_5e8b4f12d8709943490cd775'\n",
            " 'ID_5e8ad56cd4090270567b6c58' 'ID_5ebe73c4beb2212d415f6e56'\n",
            " 'ID_5ee74f25f865a8154966b412' 'ID_5eebc5be7bcfa265595eb987'\n",
            " 'ID_5f2ac3529666de2cdf5ae855' 'ID_5f439a30fcc0f575b674bb95'\n",
            " 'ID_5f436d32c620230547446af4' 'ID_5f4514323f494e4a2a5eb273'\n",
            " 'ID_5f3cdce8c0440e2c5902dd59' 'ID_5f9e5f1c691b48189c22aac6'\n",
            " 'ID_5fa3dab4394cd16b000ec5fc' 'ID_5fd88b10425b32098417a3d4'\n",
            " 'ID_600d8eaaf5c7660c0b1f0773' 'ID_6017e410f7384a78e600da18'\n",
            " 'ID_602b729b3f4128452c1c2f64' 'ID_602cfab1d7768d79aa6629b4'\n",
            " 'ID_60475eaac98ea30d727b7385' 'ID_604752a9861a02467a27c054'\n",
            " 'ID_6047b0d4c59eff5af82a57ee' 'ID_606f34aef59df516866d0ab1'\n",
            " 'ID_6083bd8472c70c3d1869bc68' 'ID_608a6897d96a507cd36c935d'\n",
            " 'ID_608a6ad834a94a4eb8742899' 'ID_60e5572b44311c0aa4513107'\n",
            " 'ID_60e556f789173d61d07e3294' 'ID_60ed537e880be55ca17d2cb6'\n",
            " 'ID_60f0802ede929401f94e50b5' 'ID_60f12ace56214677d611d526'\n",
            " 'ID_60ffd129e838871b1754c836' 'ID_6103b50cd6d4a602e4370f05'\n",
            " 'ID_6127aa3ad0a7b71b7b70196c' 'ID_613716cf75986166a63686d7'\n",
            " 'ID_6141dbc4d1a65a3c9165cb24' 'ID_6141e46e3492111e0c6d2a34'\n",
            " 'ID_61321c129a9b4c145436394d' 'ID_6130ea7a06c5cb5b571f8c1d'\n",
            " 'ID_6163e3ed2c87b93c6055ec2a' 'ID_618a6797e203d8234e6856dd'\n",
            " 'ID_617beb7403c1051f8a42b524' 'ID_619b545521ae9a187f0f0d97'\n",
            " 'ID_619caa6d230440455a384bf6' 'ID_61ab912923980748d20c8fd8'\n",
            " 'ID_618a50e0500d9413097ccd75' 'ID_61dc323a202ecc233d4dabb5'\n",
            " 'ID_61efa4189f0e4645b652296a' 'ID_61f2910d076b173c5c629945'\n",
            " 'ID_61f27201f7db923685712128' 'ID_61d5c833cb67550b4d1f5008'\n",
            " 'ID_61f96ef9941a217657673f65' 'ID_62123b0e0c4f78309f3d8ac6'\n",
            " 'ID_621cbd298d435840264f9a22' 'ID_6242e6f147af795a92470368'\n",
            " 'ID_624bfadac86f51149f3fbde5' 'ID_6255767a2a9dd71a6713a095'\n",
            " 'ID_6273d3a2b67ccf3b406068a5' 'ID_6273ad211040cf53e66b4bf8'\n",
            " 'ID_62713c09ca26da4db1116a05' 'ID_62791a704acc5b2736563535'\n",
            " 'ID_6298b6310def91542a5752f4' 'ID_62a1a11ea8775f127917c026'\n",
            " 'ID_62a1db369df50737b3321a67' 'ID_629e729214035d4a8541e0b8'\n",
            " 'ID_627cb73e65f34e61fb4d3247' 'ID_628cfb8dd9689515112d48c6'\n",
            " 'ID_62f948a0e9c85b405b795005' 'ID_630cb29cb4633d70ec3e4b28'\n",
            " 'ID_62a03c6d638c217d405a9155' 'ID_6311c8df6a4fec36e3730ee5'\n",
            " 'ID_6320507deb37f91b900fe6e4' 'ID_632c2af9bec9c87e603107b6'\n",
            " 'ID_6335a2838ac3337afb26d4d7' 'ID_6356bad61ebba975f01f5425'\n",
            " 'ID_636b2ffdba11153d7f4f2c06' 'ID_637cf28cab15af520049256a'\n",
            " 'ID_637c6b3c7aff7b47021ab16d' 'ID_637b6db8e47f4c3b177caf24'\n",
            " 'ID_6384b57da130a026dd715854' 'ID_638610848693b868d47d4598'\n",
            " 'ID_6388a9cc4d7af753062f0529' 'ID_63964ba81a9885127837fbc7'\n",
            " 'ID_638f03cbed07d3161a77e484' 'ID_63b3b2bf9cd0314f465f8744'\n",
            " 'ID_63b9b0b2c9469055e502b295' 'ID_63c12db6fa571b3a613d43a4'\n",
            " 'ID_63340f02a7363d4b2c0ae32a' 'ID_63d27db626e7ad79b7640c46'\n",
            " 'ID_63d8f018725833509b4a2c75' 'ID_63e4ac66c90a346ba96ed7c6'\n",
            " 'ID_64073fc37d61047ad161a606' 'ID_63fc719f9bf744526a195e98'\n",
            " 'ID_64070e48bd7071708438f398' 'ID_6408bea7943d11680870ef37'\n",
            " 'ID_64268025a80ef266c3417e27' 'ID_6426c145b53c89172029f506'\n",
            " 'ID_643e64bd9190740c1d7407f6' 'ID_6458d7b43d5a613f71410375'\n",
            " 'ID_645882d15227d476196aed49' 'ID_645c94036caf5c77fe3a6151'\n",
            " 'ID_6361f9ffedd8353ed336f745' 'ID_64676b314a2da50efd690a46'\n",
            " 'ID_6474d400c6933e4b4a5c5337' 'ID_64771047e86c54306139f3c4'\n",
            " 'ID_647dd041ce4cdb1a31597888' 'ID_64818f74ee9ced578f40a9e6'\n",
            " 'ID_6489889191a15a7fca16e326' 'ID_649011d41e41763cc27f09b6'\n",
            " 'ID_62a35b4a56776675c40646a7' 'ID_6492ce879e3baf373a55aab5'\n",
            " 'ID_6491a50ce7b72a70aa75437a' 'ID_649964e26db1286c56156c66'\n",
            " 'ID_649b37ba66eba1605b485d16' 'ID_5fc1263767e20c14590941ed'\n",
            " 'ID_6497597d8041b3133a721ec7' 'ID_6499963984bc60653a3e4495'\n",
            " 'ID_64a590d8258577494c7e4e47' 'ID_649f1bef6b4c6341ca18a0d5'\n",
            " 'ID_64a54c4b10409330e5559677' 'ID_64a5c7e0db50245803503dd7'\n",
            " 'ID_644b88421b452a7ea24bcd06' 'ID_649ecd7cf95051327b338684'\n",
            " 'ID_64ad4454fe7c2d69f25d9759' 'ID_64aaf747729a5508256653e5'\n",
            " 'ID_64b144b6bb5ebd59995098f8' 'ID_64b91852366a244c4c2d2616'\n",
            " 'ID_64b6a2e5ec8e2640b008dad3' 'ID_64be5c51a5db0060046fa166'\n",
            " 'ID_620fa2fa329e60259f7ddec6' 'ID_64b7b2795e6fd83b270de6b8'\n",
            " 'ID_64c393edb0613d10ec5ead4e' 'ID_64c38b7d039d2322ec105c6a'\n",
            " 'ID_64c29c0fb5fe0828b84b95f7' 'ID_64c10bff5ae80900c97308a6'\n",
            " 'ID_64c75a2e3f7a615b7d5161d8' 'ID_649f3100b29ced7f6517a532'\n",
            " 'ID_644bb63b02f7105d212ae969' 'ID_649ecc31c986241e700a2046'\n",
            " 'ID_64db339427687379bb7abc99' 'ID_64cce13a065233199d450754'\n",
            " 'ID_6489a3b64f5e7d5d110bd4eb' 'ID_64f19d0c876070595e525fdc'\n",
            " 'ID_64f8895de5a4a90700156695' 'ID_64e75947276de33b8665a516'\n",
            " 'ID_64f83d674494f609796268e8' 'ID_64fb107a03d7866c5900d3f4'\n",
            " 'ID_64f048dfd056f86b73742e64' 'ID_650198abf77ff24c3619c224'\n",
            " 'ID_64dcd1614e8f73143e557db7' 'ID_6502d9045d1fce64bc74a164'\n",
            " 'ID_65003ad8da97b576ff7b21f5' 'ID_650436679bee7835ba4d5dc6'\n",
            " 'ID_65098815a56bb64c756a8a54' 'ID_650de69b6467857f167eb4a5'\n",
            " 'ID_650d757f47c94865571b6ba9' 'ID_6512f45aa0d0733bf951e3c5'\n",
            " 'ID_651a8f3f0a237776ca1cf668' 'ID_651d41157f25fd3d3c1b62b7'\n",
            " 'ID_651d2210790fd5621d592a04' 'ID_651d498f574c692aad4d2da6'\n",
            " 'ID_6464ba7988f2ff57157322b6' 'ID_64d0bd0091caf6305e343d81'\n",
            " 'ID_6526707040b2f47f114f86aa' 'ID_65278bc176ff2b5ae5093c89'\n",
            " 'ID_650acf483bb1b517c041031b' 'ID_653a7dbc419fc161735be9a5'\n",
            " 'ID_64c25df64807d0282706b0ca' 'ID_65434a0b87e3c228197a5d05'\n",
            " 'ID_653f72803fbe1219423544e6' 'ID_6540ddc07e6887217043b524'\n",
            " 'ID_6551ddb26a75444f4e16e234' 'ID_655c5cf8c1eb0b6291500174'\n",
            " 'ID_6554ec6993170f75bd752ec8' 'ID_65660b0c15962a6be05ec935'\n",
            " 'ID_656747739b5c72023947f7c7' 'ID_6565b6061f711967d4479b26'\n",
            " 'ID_6567476a4a967518c623d506' 'ID_65649619b961e503bc796b2e'\n",
            " 'ID_65687e2b40ea026fcc662a75' 'ID_6568807cbb9c4d235c5dd9a8'\n",
            " 'ID_6548ff76c7b54008b66d7797' 'ID_65a7bf329fa4627faf28390c'\n",
            " 'ID_65b0f65c7fe62e56c5593d55']\n",
            "call_type 2 ['Mobile click-to-call' 'Manually dialed']\n",
            "call_status 2 ['Missed' 'Received']\n",
            "display_location 3 ['AD' 'Website' 'LANDING_PAGE']\n"
          ]
        }
      ],
      "source": [
        "for col in categoric_columns:\n",
        "  print(col, len(train[col].unique()), train[col].unique())"
      ]
    },
    {
      "cell_type": "code",
      "execution_count": 38,
      "metadata": {
        "id": "UkitSfz-DgMn"
      },
      "outputs": [],
      "source": [
        "train['call_status'] = train['call_status'].map({'Missed': 0, 'Received': 1})"
      ]
    },
    {
      "cell_type": "code",
      "execution_count": 39,
      "metadata": {},
      "outputs": [],
      "source": [
        "categoric_columns.remove('call_status')\n",
        "# categoric_columns.remove('ID')\n",
        "numeric_columns.remove('clicks')"
      ]
    },
    {
      "cell_type": "code",
      "execution_count": 40,
      "metadata": {},
      "outputs": [],
      "source": [
        "encoder = BinaryEncoder(drop_invariant=False, return_df=True,)\n",
        "IDs_encoded = encoder.fit_transform(train['ID'])"
      ]
    },
    {
      "cell_type": "code",
      "execution_count": 41,
      "metadata": {
        "colab": {
          "base_uri": "https://localhost:8080/",
          "height": 252
        },
        "id": "VYA-XIKY4N0d",
        "outputId": "89ce75ec-e1df-487d-d0f8-016dcf460cf7"
      },
      "outputs": [],
      "source": [
        "encoder = OneHotEncoder(handle_unknown='ignore', sparse=False)\n",
        "encoder.set_output(transform=\"pandas\")\n",
        "scaler = StandardScaler().set_output(transform=\"pandas\")"
      ]
    },
    {
      "cell_type": "code",
      "execution_count": 42,
      "metadata": {
        "id": "tVyirQUMwCxz"
      },
      "outputs": [],
      "source": [
        "scaled_num = scaler.fit_transform(train[numeric_columns])\n",
        "encoded_cat = encoder.fit_transform(train[categoric_columns])"
      ]
    },
    {
      "cell_type": "code",
      "execution_count": 43,
      "metadata": {
        "id": "6C2kf5Zs4N0f"
      },
      "outputs": [],
      "source": [
        "# train = pd.concat([IDs_encoded, scaled_num, encoded_cat, train['call_status'], train['clicks']], axis=1)\n",
        "train = pd.concat([scaled_num, encoded_cat, train['call_status'], train['clicks']], axis=1)"
      ]
    },
    {
      "cell_type": "code",
      "execution_count": 44,
      "metadata": {},
      "outputs": [
        {
          "data": {
            "text/plain": [
              "(287769, 206)"
            ]
          },
          "execution_count": 44,
          "metadata": {},
          "output_type": "execute_result"
        }
      ],
      "source": [
        "train.shape"
      ]
    },
    {
      "cell_type": "code",
      "execution_count": 45,
      "metadata": {},
      "outputs": [
        {
          "data": {
            "text/html": [
              "<div>\n",
              "<style scoped>\n",
              "    .dataframe tbody tr th:only-of-type {\n",
              "        vertical-align: middle;\n",
              "    }\n",
              "\n",
              "    .dataframe tbody tr th {\n",
              "        vertical-align: top;\n",
              "    }\n",
              "\n",
              "    .dataframe thead th {\n",
              "        text-align: right;\n",
              "    }\n",
              "</style>\n",
              "<table border=\"1\" class=\"dataframe\">\n",
              "  <thead>\n",
              "    <tr style=\"text-align: right;\">\n",
              "      <th></th>\n",
              "      <th>impressions</th>\n",
              "      <th>cost</th>\n",
              "      <th>conversions</th>\n",
              "      <th>duration</th>\n",
              "      <th>impression_share</th>\n",
              "      <th>conversions_calls</th>\n",
              "      <th>headline1_len</th>\n",
              "      <th>headline2_len</th>\n",
              "      <th>ad_description_len</th>\n",
              "      <th>ad_type_EXPANDED_DYNAMIC_SEARCH_AD</th>\n",
              "      <th>...</th>\n",
              "      <th>ID_ID_6568807cbb9c4d235c5dd9a8</th>\n",
              "      <th>ID_ID_65a7bf329fa4627faf28390c</th>\n",
              "      <th>ID_ID_65b0f65c7fe62e56c5593d55</th>\n",
              "      <th>call_type_Manually dialed</th>\n",
              "      <th>call_type_Mobile click-to-call</th>\n",
              "      <th>display_location_AD</th>\n",
              "      <th>display_location_LANDING_PAGE</th>\n",
              "      <th>display_location_Website</th>\n",
              "      <th>call_status</th>\n",
              "      <th>clicks</th>\n",
              "    </tr>\n",
              "    <tr>\n",
              "      <th>date</th>\n",
              "      <th></th>\n",
              "      <th></th>\n",
              "      <th></th>\n",
              "      <th></th>\n",
              "      <th></th>\n",
              "      <th></th>\n",
              "      <th></th>\n",
              "      <th></th>\n",
              "      <th></th>\n",
              "      <th></th>\n",
              "      <th></th>\n",
              "      <th></th>\n",
              "      <th></th>\n",
              "      <th></th>\n",
              "      <th></th>\n",
              "      <th></th>\n",
              "      <th></th>\n",
              "      <th></th>\n",
              "      <th></th>\n",
              "      <th></th>\n",
              "      <th></th>\n",
              "    </tr>\n",
              "  </thead>\n",
              "  <tbody>\n",
              "    <tr>\n",
              "      <th>2020-01-01</th>\n",
              "      <td>0.459514</td>\n",
              "      <td>0.162641</td>\n",
              "      <td>-0.073453</td>\n",
              "      <td>-0.691432</td>\n",
              "      <td>-0.02762</td>\n",
              "      <td>-0.237042</td>\n",
              "      <td>-0.471214</td>\n",
              "      <td>1.270069</td>\n",
              "      <td>0.068435</td>\n",
              "      <td>0.0</td>\n",
              "      <td>...</td>\n",
              "      <td>0.0</td>\n",
              "      <td>0.0</td>\n",
              "      <td>0.0</td>\n",
              "      <td>0.0</td>\n",
              "      <td>1.0</td>\n",
              "      <td>1.0</td>\n",
              "      <td>0.0</td>\n",
              "      <td>0.0</td>\n",
              "      <td>0</td>\n",
              "      <td>15.0</td>\n",
              "    </tr>\n",
              "    <tr>\n",
              "      <th>2020-01-01</th>\n",
              "      <td>0.111416</td>\n",
              "      <td>-0.050678</td>\n",
              "      <td>-0.073453</td>\n",
              "      <td>-0.691432</td>\n",
              "      <td>-0.02762</td>\n",
              "      <td>-0.237042</td>\n",
              "      <td>-0.471214</td>\n",
              "      <td>-0.525648</td>\n",
              "      <td>0.510454</td>\n",
              "      <td>0.0</td>\n",
              "      <td>...</td>\n",
              "      <td>0.0</td>\n",
              "      <td>0.0</td>\n",
              "      <td>0.0</td>\n",
              "      <td>0.0</td>\n",
              "      <td>1.0</td>\n",
              "      <td>1.0</td>\n",
              "      <td>0.0</td>\n",
              "      <td>0.0</td>\n",
              "      <td>0</td>\n",
              "      <td>8.0</td>\n",
              "    </tr>\n",
              "    <tr>\n",
              "      <th>2020-01-01</th>\n",
              "      <td>-0.085620</td>\n",
              "      <td>-0.060694</td>\n",
              "      <td>-0.073453</td>\n",
              "      <td>-0.691432</td>\n",
              "      <td>-0.02762</td>\n",
              "      <td>-0.237042</td>\n",
              "      <td>-0.471214</td>\n",
              "      <td>-0.525648</td>\n",
              "      <td>-0.152574</td>\n",
              "      <td>0.0</td>\n",
              "      <td>...</td>\n",
              "      <td>0.0</td>\n",
              "      <td>0.0</td>\n",
              "      <td>0.0</td>\n",
              "      <td>0.0</td>\n",
              "      <td>1.0</td>\n",
              "      <td>1.0</td>\n",
              "      <td>0.0</td>\n",
              "      <td>0.0</td>\n",
              "      <td>0</td>\n",
              "      <td>8.0</td>\n",
              "    </tr>\n",
              "    <tr>\n",
              "      <th>2020-01-01</th>\n",
              "      <td>0.039170</td>\n",
              "      <td>-0.172497</td>\n",
              "      <td>-0.073453</td>\n",
              "      <td>-0.691432</td>\n",
              "      <td>-0.02762</td>\n",
              "      <td>-0.237042</td>\n",
              "      <td>-0.471214</td>\n",
              "      <td>0.072924</td>\n",
              "      <td>0.510454</td>\n",
              "      <td>0.0</td>\n",
              "      <td>...</td>\n",
              "      <td>0.0</td>\n",
              "      <td>0.0</td>\n",
              "      <td>0.0</td>\n",
              "      <td>0.0</td>\n",
              "      <td>1.0</td>\n",
              "      <td>1.0</td>\n",
              "      <td>0.0</td>\n",
              "      <td>0.0</td>\n",
              "      <td>0</td>\n",
              "      <td>4.0</td>\n",
              "    </tr>\n",
              "    <tr>\n",
              "      <th>2020-01-01</th>\n",
              "      <td>-0.341767</td>\n",
              "      <td>-0.267246</td>\n",
              "      <td>-0.073453</td>\n",
              "      <td>-0.691432</td>\n",
              "      <td>-0.02762</td>\n",
              "      <td>-0.237042</td>\n",
              "      <td>-0.471214</td>\n",
              "      <td>-0.525648</td>\n",
              "      <td>0.510454</td>\n",
              "      <td>0.0</td>\n",
              "      <td>...</td>\n",
              "      <td>0.0</td>\n",
              "      <td>0.0</td>\n",
              "      <td>0.0</td>\n",
              "      <td>0.0</td>\n",
              "      <td>1.0</td>\n",
              "      <td>1.0</td>\n",
              "      <td>0.0</td>\n",
              "      <td>0.0</td>\n",
              "      <td>0</td>\n",
              "      <td>1.0</td>\n",
              "    </tr>\n",
              "  </tbody>\n",
              "</table>\n",
              "<p>5 rows × 206 columns</p>\n",
              "</div>"
            ],
            "text/plain": [
              "            impressions      cost  conversions  duration  impression_share  \\\n",
              "date                                                                         \n",
              "2020-01-01     0.459514  0.162641    -0.073453 -0.691432          -0.02762   \n",
              "2020-01-01     0.111416 -0.050678    -0.073453 -0.691432          -0.02762   \n",
              "2020-01-01    -0.085620 -0.060694    -0.073453 -0.691432          -0.02762   \n",
              "2020-01-01     0.039170 -0.172497    -0.073453 -0.691432          -0.02762   \n",
              "2020-01-01    -0.341767 -0.267246    -0.073453 -0.691432          -0.02762   \n",
              "\n",
              "            conversions_calls  headline1_len  headline2_len  \\\n",
              "date                                                          \n",
              "2020-01-01          -0.237042      -0.471214       1.270069   \n",
              "2020-01-01          -0.237042      -0.471214      -0.525648   \n",
              "2020-01-01          -0.237042      -0.471214      -0.525648   \n",
              "2020-01-01          -0.237042      -0.471214       0.072924   \n",
              "2020-01-01          -0.237042      -0.471214      -0.525648   \n",
              "\n",
              "            ad_description_len  ad_type_EXPANDED_DYNAMIC_SEARCH_AD  ...  \\\n",
              "date                                                                ...   \n",
              "2020-01-01            0.068435                                 0.0  ...   \n",
              "2020-01-01            0.510454                                 0.0  ...   \n",
              "2020-01-01           -0.152574                                 0.0  ...   \n",
              "2020-01-01            0.510454                                 0.0  ...   \n",
              "2020-01-01            0.510454                                 0.0  ...   \n",
              "\n",
              "            ID_ID_6568807cbb9c4d235c5dd9a8  ID_ID_65a7bf329fa4627faf28390c  \\\n",
              "date                                                                         \n",
              "2020-01-01                             0.0                             0.0   \n",
              "2020-01-01                             0.0                             0.0   \n",
              "2020-01-01                             0.0                             0.0   \n",
              "2020-01-01                             0.0                             0.0   \n",
              "2020-01-01                             0.0                             0.0   \n",
              "\n",
              "            ID_ID_65b0f65c7fe62e56c5593d55  call_type_Manually dialed  \\\n",
              "date                                                                    \n",
              "2020-01-01                             0.0                        0.0   \n",
              "2020-01-01                             0.0                        0.0   \n",
              "2020-01-01                             0.0                        0.0   \n",
              "2020-01-01                             0.0                        0.0   \n",
              "2020-01-01                             0.0                        0.0   \n",
              "\n",
              "            call_type_Mobile click-to-call  display_location_AD  \\\n",
              "date                                                              \n",
              "2020-01-01                             1.0                  1.0   \n",
              "2020-01-01                             1.0                  1.0   \n",
              "2020-01-01                             1.0                  1.0   \n",
              "2020-01-01                             1.0                  1.0   \n",
              "2020-01-01                             1.0                  1.0   \n",
              "\n",
              "            display_location_LANDING_PAGE  display_location_Website  \\\n",
              "date                                                                  \n",
              "2020-01-01                            0.0                       0.0   \n",
              "2020-01-01                            0.0                       0.0   \n",
              "2020-01-01                            0.0                       0.0   \n",
              "2020-01-01                            0.0                       0.0   \n",
              "2020-01-01                            0.0                       0.0   \n",
              "\n",
              "            call_status  clicks  \n",
              "date                             \n",
              "2020-01-01            0    15.0  \n",
              "2020-01-01            0     8.0  \n",
              "2020-01-01            0     8.0  \n",
              "2020-01-01            0     4.0  \n",
              "2020-01-01            0     1.0  \n",
              "\n",
              "[5 rows x 206 columns]"
            ]
          },
          "execution_count": 45,
          "metadata": {},
          "output_type": "execute_result"
        }
      ],
      "source": [
        "train.head()"
      ]
    },
    {
      "cell_type": "markdown",
      "metadata": {
        "id": "Gxw32giCwCxt"
      },
      "source": [
        "## Resampling"
      ]
    },
    {
      "cell_type": "code",
      "execution_count": 46,
      "metadata": {
        "id": "G80z4W0iwCxu"
      },
      "outputs": [],
      "source": [
        "# resampled = train.resample('D').sum()\n",
        "# # train = resampled"
      ]
    },
    {
      "cell_type": "markdown",
      "metadata": {
        "id": "aSoVN4uPwCxr"
      },
      "source": [
        "**dataframe for the traditional time series models**"
      ]
    },
    {
      "cell_type": "code",
      "execution_count": 47,
      "metadata": {
        "id": "47I8fEFFwCxr"
      },
      "outputs": [],
      "source": [
        "# train1 = train[['target']].copy()"
      ]
    },
    {
      "cell_type": "code",
      "execution_count": 48,
      "metadata": {
        "colab": {
          "base_uri": "https://localhost:8080/",
          "height": 238
        },
        "id": "r2vwMRYgwCxs",
        "outputId": "0bcbeff0-ec2d-4b7a-cc46-aa9de805e75c"
      },
      "outputs": [],
      "source": [
        "# train1.head()"
      ]
    },
    {
      "cell_type": "code",
      "execution_count": 49,
      "metadata": {},
      "outputs": [
        {
          "data": {
            "text/plain": [
              "Timestamp('2024-02-01 00:00:00')"
            ]
          },
          "execution_count": 49,
          "metadata": {},
          "output_type": "execute_result"
        }
      ],
      "source": [
        "test, train_df  = train[len(train)-4000:], train[:len(train)-4000] #15 or 4000 for unresampled\n",
        "test.reset_index().date.min() # 2024-01-30"
      ]
    },
    {
      "cell_type": "code",
      "execution_count": 50,
      "metadata": {},
      "outputs": [
        {
          "data": {
            "text/plain": [
              "Timestamp('2024-01-19 00:00:00')"
            ]
          },
          "execution_count": 50,
          "metadata": {},
          "output_type": "execute_result"
        }
      ],
      "source": [
        "eval, train  = train_df[len(train_df)-4000:], train_df[:len(train_df)-4000]\n",
        "eval.reset_index().date.min() # 2024-01-30"
      ]
    },
    {
      "cell_type": "code",
      "execution_count": 51,
      "metadata": {
        "id": "oeHRmt8n4N0h"
      },
      "outputs": [],
      "source": [
        "# Split data into parts\n",
        "X_train, X_test, y_train, y_test = train.drop(['clicks'], axis=1), eval.drop(['clicks'], axis=1), train['clicks'], eval['clicks']"
      ]
    },
    {
      "cell_type": "markdown",
      "metadata": {
        "id": "kpll6xDz4N0h"
      },
      "source": [
        "# Machine Learning Modeling"
      ]
    },
    {
      "cell_type": "markdown",
      "metadata": {
        "id": "--b5dI1L4N0h"
      },
      "source": [
        "# Non-Traditional Time Series Models"
      ]
    },
    {
      "cell_type": "markdown",
      "metadata": {
        "id": "p-MG5g2V4N0h"
      },
      "source": [
        "### DecisionTreeRegressor"
      ]
    },
    {
      "cell_type": "code",
      "execution_count": 52,
      "metadata": {
        "id": "7jV3ZqL64N0i"
      },
      "outputs": [],
      "source": [
        "from sklearn.tree import DecisionTreeRegressor\n",
        "tree = DecisionTreeRegressor()\n",
        "model_tree = tree.fit(X_train, y_train)\n",
        "\n",
        "# Make prediction on X_test\n",
        "tree_pred = model_tree.predict(X_test)"
      ]
    },
    {
      "cell_type": "code",
      "execution_count": 53,
      "metadata": {
        "colab": {
          "base_uri": "https://localhost:8080/",
          "height": 391
        },
        "id": "FGVD4sAy4N0i",
        "outputId": "abe1ffe2-eb89-43a3-9ef0-f97fa25bd9e6"
      },
      "outputs": [
        {
          "data": {
            "image/png": "[encoded data removed]",
            "text/plain": [
              "<Figure size 800x400 with 1 Axes>"
            ]
          },
          "metadata": {},
          "output_type": "display_data"
        }
      ],
      "source": [
        "plt.figure(figsize=(8,4))\n",
        "plt.plot(y_test, label ='Actual Sales')\n",
        "plt.plot(tree_pred, label='DecisionTreeRegressor')\n",
        "plt.legend(loc='best')\n",
        "plt.title('DecisionTreeRegressor Prediction')\n",
        "plt.show()"
      ]
    },
    {
      "cell_type": "code",
      "execution_count": 54,
      "metadata": {
        "id": "yRIq48Od4N0j"
      },
      "outputs": [],
      "source": [
        "mse = mean_squared_error(y_test, tree_pred )\n",
        "rmse = np.sqrt(mean_squared_error(y_test, tree_pred )).round(2)\n",
        "rmsle = np.sqrt(mean_squared_log_error(y_test, tree_pred)).round(2)\n",
        "msle = mean_squared_log_error(y_test, tree_pred).round(2)\n",
        "\n",
        "\n",
        "results = pd.DataFrame([['DecisionTree', mse, msle, rmse, rmsle]], columns = ['Model', 'MSE', 'MSLE', 'RMSE', 'RMSLE'])"
      ]
    },
    {
      "cell_type": "markdown",
      "metadata": {
        "id": "M_f0-Hnr4N0j"
      },
      "source": [
        "### KNN"
      ]
    },
    {
      "cell_type": "code",
      "execution_count": 55,
      "metadata": {
        "id": "03R8eIEg4N0k"
      },
      "outputs": [],
      "source": [
        "from sklearn.neighbors import KNeighborsRegressor\n",
        "neigh = KNeighborsRegressor(n_neighbors=1)\n",
        "# fit model no training data\n",
        "neigh.fit(X_train, y_train)\n",
        "\n",
        "# make predictions for test data\n",
        "neigh_pred = neigh.predict(X_test)"
      ]
    },
    {
      "cell_type": "code",
      "execution_count": 56,
      "metadata": {
        "colab": {
          "base_uri": "https://localhost:8080/",
          "height": 391
        },
        "id": "b5ga2_QilXjW",
        "outputId": "8cb94cf9-4f2f-4d5b-b638-8d6ba593a6b8"
      },
      "outputs": [
        {
          "data": {
            "image/png": "[encoded data removed]",
            "text/plain": [
              "<Figure size 800x400 with 1 Axes>"
            ]
          },
          "metadata": {},
          "output_type": "display_data"
        }
      ],
      "source": [
        "plt.figure(figsize=(8,4))\n",
        "plt.plot(y_test, label ='Actual Sales')\n",
        "plt.plot(neigh_pred, label='KNeighborsRegressor')\n",
        "plt.legend(loc='best')\n",
        "plt.title('KNeighborsRegressor Prediction')\n",
        "plt.show()"
      ]
    },
    {
      "cell_type": "code",
      "execution_count": 57,
      "metadata": {
        "id": "ORSI8VNk4N0k"
      },
      "outputs": [],
      "source": [
        "mse = mean_squared_error(y_test, neigh_pred )\n",
        "msle = mean_squared_log_error(y_test, neigh_pred)\n",
        "rmse = np.sqrt(mean_squared_error(y_test, neigh_pred )).round(2)\n",
        "rmsle = np.sqrt(mean_squared_log_error(y_test, neigh_pred)).round(5)\n",
        "\n",
        "# model_results = pd.DataFrame([['lightGBM', mse, rmse]], columns = ['Model', 'MSE', 'RMSE'])\n",
        "model_results = pd.DataFrame([['KNN', mse, msle, rmse, rmsle]], columns = ['Model', 'MSE', 'MSLE', 'RMSE', 'RMSLE'])\n",
        "# Concatenating the two DataFrames\n",
        "results = pd.concat([results, model_results], ignore_index=True)"
      ]
    },
    {
      "cell_type": "code",
      "execution_count": 58,
      "metadata": {},
      "outputs": [
        {
          "data": {
            "text/html": [
              "<div>\n",
              "<style scoped>\n",
              "    .dataframe tbody tr th:only-of-type {\n",
              "        vertical-align: middle;\n",
              "    }\n",
              "\n",
              "    .dataframe tbody tr th {\n",
              "        vertical-align: top;\n",
              "    }\n",
              "\n",
              "    .dataframe thead th {\n",
              "        text-align: right;\n",
              "    }\n",
              "</style>\n",
              "<table border=\"1\" class=\"dataframe\">\n",
              "  <thead>\n",
              "    <tr style=\"text-align: right;\">\n",
              "      <th></th>\n",
              "      <th>Model</th>\n",
              "      <th>MSE</th>\n",
              "      <th>MSLE</th>\n",
              "      <th>RMSE</th>\n",
              "      <th>RMSLE</th>\n",
              "    </tr>\n",
              "  </thead>\n",
              "  <tbody>\n",
              "    <tr>\n",
              "      <th>0</th>\n",
              "      <td>DecisionTree</td>\n",
              "      <td>173.15925</td>\n",
              "      <td>0.08000</td>\n",
              "      <td>13.16</td>\n",
              "      <td>0.29000</td>\n",
              "    </tr>\n",
              "    <tr>\n",
              "      <th>1</th>\n",
              "      <td>KNN</td>\n",
              "      <td>153.39525</td>\n",
              "      <td>0.21094</td>\n",
              "      <td>12.39</td>\n",
              "      <td>0.45928</td>\n",
              "    </tr>\n",
              "  </tbody>\n",
              "</table>\n",
              "</div>"
            ],
            "text/plain": [
              "          Model        MSE     MSLE   RMSE    RMSLE\n",
              "0  DecisionTree  173.15925  0.08000  13.16  0.29000\n",
              "1           KNN  153.39525  0.21094  12.39  0.45928"
            ]
          },
          "execution_count": 58,
          "metadata": {},
          "output_type": "execute_result"
        }
      ],
      "source": [
        "results"
      ]
    },
    {
      "cell_type": "markdown",
      "metadata": {
        "id": "kkdiDsNelg7j"
      },
      "source": [
        "### RandomForestRegressor"
      ]
    },
    {
      "cell_type": "code",
      "execution_count": 59,
      "metadata": {
        "id": "r2hKk0NOll9s"
      },
      "outputs": [],
      "source": [
        "# from sklearn.ensemble import RandomForestRegressor\n",
        "# # Initialize and fit the Random Forest Regressor\n",
        "# forest = RandomForestRegressor()\n",
        "# model_forest = forest.fit(X_train, y_train)\n",
        "\n",
        "# # Make predictions on X_test\n",
        "# forest_pred = model_forest.predict(X_test)"
      ]
    },
    {
      "cell_type": "code",
      "execution_count": 60,
      "metadata": {
        "colab": {
          "base_uri": "https://localhost:8080/",
          "height": 391
        },
        "id": "xfU3HZ_flwRx",
        "outputId": "e2f43caf-c21b-48fb-f7f4-49b70d60bdc8"
      },
      "outputs": [],
      "source": [
        "# plt.figure(figsize=(8, 4))\n",
        "# plt.plot(y_test, label='Actual Sales')\n",
        "# plt.plot(forest_pred, label='RandomForestRegressor')\n",
        "# plt.legend(loc='best')\n",
        "# plt.title('RandomForestRegressor Prediction')\n",
        "# plt.show()"
      ]
    },
    {
      "cell_type": "code",
      "execution_count": 61,
      "metadata": {
        "id": "8ZVEv2xYlxrl"
      },
      "outputs": [],
      "source": [
        "# mse = mean_squared_error(y_test, forest_pred)\n",
        "# msle = mean_squared_log_error(y_test, forest_pred)\n",
        "# rmse = np.sqrt(mse).round(2)\n",
        "# rmsle = np.sqrt(msle).round(5)\n",
        "\n",
        "# # Append the results to the DataFrame\n",
        "# model_results = pd.DataFrame([['Random Forest', mse, msle, rmse, rmsle]],\n",
        "#                              columns=['Model', 'MSE', 'MSLE', 'RMSE', 'RMSLE'])\n",
        "# results = pd.concat([results, model_results], ignore_index=True)"
      ]
    },
    {
      "cell_type": "markdown",
      "metadata": {
        "id": "f23SVbfcmF0V"
      },
      "source": [
        "### Support Vector Regression (SVR)"
      ]
    },
    {
      "cell_type": "code",
      "execution_count": 62,
      "metadata": {
        "id": "aJiDg2JtmMVT"
      },
      "outputs": [],
      "source": [
        "# from sklearn.svm import SVR\n",
        "\n",
        "# # Initialize and fit the SVR model\n",
        "# svr = SVR()\n",
        "# model_svr = svr.fit(X_train, y_train)\n",
        "\n",
        "# # Make predictions on X_test\n",
        "# svr_pred = model_svr.predict(X_test)"
      ]
    },
    {
      "cell_type": "code",
      "execution_count": 63,
      "metadata": {
        "colab": {
          "base_uri": "https://localhost:8080/",
          "height": 391
        },
        "id": "hE8Jp3SdmNou",
        "outputId": "b8283a74-2631-4159-a6f2-fdf9a83548e2"
      },
      "outputs": [],
      "source": [
        "# plt.figure(figsize=(8, 4))\n",
        "# plt.plot(y_test, label='Actual Sales')\n",
        "# plt.plot(svr_pred, label='Support Vector Regression')\n",
        "# plt.legend(loc='best')\n",
        "# plt.title('Support Vector Regression Prediction')\n",
        "# plt.show()"
      ]
    },
    {
      "cell_type": "code",
      "execution_count": 64,
      "metadata": {
        "id": "9OFAEVXHmNlp"
      },
      "outputs": [],
      "source": [
        "# # Append the results to the DataFrame\n",
        "# mse = mean_squared_error(y_test, svr_pred)\n",
        "# msle = mean_squared_log_error(y_test, svr_pred)\n",
        "# rmse = np.sqrt(mse).round(2)\n",
        "# rmsle = np.sqrt(msle).round(5)\n",
        "\n",
        "# model_results = pd.DataFrame([['SVR', mse, msle, rmse, rmsle]],\n",
        "#                              columns=['Model', 'MSE', 'MSLE', 'RMSE', 'RMSLE'])\n",
        "# results = pd.concat([results, model_results], ignore_index=True)"
      ]
    },
    {
      "cell_type": "markdown",
      "metadata": {
        "id": "4ejfTTMmmtat"
      },
      "source": [
        "### Gradient Boosting"
      ]
    },
    {
      "cell_type": "code",
      "execution_count": 65,
      "metadata": {
        "id": "_1gA-FJem2vV"
      },
      "outputs": [],
      "source": [
        "# from sklearn.ensemble import GradientBoostingRegressor\n",
        "\n",
        "# # Initialize and fit the Gradient Boosting model\n",
        "# gbr = GradientBoostingRegressor()\n",
        "# model_gbr = gbr.fit(X_train, y_train)\n",
        "\n",
        "# # Make predictions on X_test\n",
        "# gbr_pred = model_gbr.predict(X_test)"
      ]
    },
    {
      "cell_type": "code",
      "execution_count": 66,
      "metadata": {
        "colab": {
          "base_uri": "https://localhost:8080/",
          "height": 391
        },
        "id": "ke9igzf3m4CD",
        "outputId": "b89b766b-be4a-4515-9dea-44caa583af9a"
      },
      "outputs": [],
      "source": [
        "# plt.figure(figsize=(8, 4))\n",
        "# plt.plot(y_test, label='Actual Sales')\n",
        "# plt.plot(gbr_pred, label='Gradient Boosting')\n",
        "# plt.legend(loc='best')\n",
        "# plt.title('Gradient Boosting Prediction')\n",
        "# plt.show()"
      ]
    },
    {
      "cell_type": "code",
      "execution_count": 67,
      "metadata": {
        "id": "jSqhcFQOmxRz"
      },
      "outputs": [],
      "source": [
        "# # Append the results to the DataFrame\n",
        "# mse = mean_squared_error(y_test, gbr_pred)\n",
        "# msle = mean_squared_log_error(y_test, gbr_pred)\n",
        "# rmse = np.sqrt(mse).round(2)\n",
        "# rmsle = np.sqrt(msle).round(5)\n",
        "\n",
        "# model_results = pd.DataFrame([['Gradient Boosting', mse, msle, rmse, rmsle]],\n",
        "#                              columns=['Model', 'MSE', 'MSLE', 'RMSE', 'RMSLE'])\n",
        "# results = pd.concat([results, model_results], ignore_index=True)"
      ]
    },
    {
      "cell_type": "markdown",
      "metadata": {
        "id": "6c8xEI0znFsI"
      },
      "source": [
        "### XGBoost"
      ]
    },
    {
      "cell_type": "code",
      "execution_count": 68,
      "metadata": {
        "id": "6o8uz3jonHA9"
      },
      "outputs": [],
      "source": [
        "# import xgboost as xgb\n",
        "\n",
        "# # Initialize and fit the XGBoost model\n",
        "# xgboost = xgb.XGBRegressor()\n",
        "# model_xgboost = xgboost.fit(X_train, y_train)\n",
        "\n",
        "# # Make predictions on X_test\n",
        "# xgboost_pred = model_xgboost.predict(X_test)\n",
        "\n",
        "# # Append the results to the DataFrame\n",
        "# mse = mean_squared_error(y_test, xgboost_pred)\n",
        "# msle = mean_squared_log_error(y_test, xgboost_pred)\n",
        "# rmse = np.sqrt(mse).round(2)\n",
        "# rmsle = np.sqrt(msle).round(5)\n",
        "\n",
        "# model_results = pd.DataFrame([['XGBoost', mse, msle, rmse, rmsle]],\n",
        "#                              columns=['Model', 'MSE', 'MSLE', 'RMSE', 'RMSLE'])\n",
        "# results = pd.concat([results, model_results], ignore_index=True)"
      ]
    },
    {
      "cell_type": "markdown",
      "metadata": {
        "id": "P6rBf-mqnLnz"
      },
      "source": [
        "### Linear Regression"
      ]
    },
    {
      "cell_type": "code",
      "execution_count": 69,
      "metadata": {
        "id": "XCi5dxXenPNk"
      },
      "outputs": [],
      "source": [
        "# from sklearn.linear_model import LinearRegression\n",
        "\n",
        "# # Initialize and fit the Linear Regression model\n",
        "# linear_reg = LinearRegression()\n",
        "# model_linear_reg = linear_reg.fit(X_train, y_train)\n",
        "\n",
        "# # Make predictions on X_test\n",
        "# linear_reg_pred = model_linear_reg.predict(X_test)\n",
        "\n",
        "# # Append the results to the DataFrame\n",
        "# mse = mean_squared_error(y_test, linear_reg_pred)\n",
        "# msle = mean_squared_log_error(y_test, linear_reg_pred)\n",
        "# rmse = np.sqrt(mse).round(2)\n",
        "# rmsle = np.sqrt(msle).round(5)\n",
        "\n",
        "# model_results = pd.DataFrame([['Linear Regression', mse, msle, rmse, rmsle]],\n",
        "#                              columns=['Model', 'MSE', 'MSLE', 'RMSE', 'RMSLE'])\n",
        "# results = pd.concat([results, model_results], ignore_index=True)"
      ]
    },
    {
      "cell_type": "markdown",
      "metadata": {
        "id": "px5fQiLs4N0k"
      },
      "source": [
        "## Models Comparison"
      ]
    },
    {
      "cell_type": "code",
      "execution_count": 70,
      "metadata": {
        "colab": {
          "base_uri": "https://localhost:8080/",
          "height": 269
        },
        "id": "D4I9RcCPnThC",
        "outputId": "f961c0bc-6e21-4756-cecb-6b159a7cdbd2"
      },
      "outputs": [
        {
          "data": {
            "text/html": [
              "<div>\n",
              "<style scoped>\n",
              "    .dataframe tbody tr th:only-of-type {\n",
              "        vertical-align: middle;\n",
              "    }\n",
              "\n",
              "    .dataframe tbody tr th {\n",
              "        vertical-align: top;\n",
              "    }\n",
              "\n",
              "    .dataframe thead th {\n",
              "        text-align: right;\n",
              "    }\n",
              "</style>\n",
              "<table border=\"1\" class=\"dataframe\">\n",
              "  <thead>\n",
              "    <tr style=\"text-align: right;\">\n",
              "      <th></th>\n",
              "      <th>Model</th>\n",
              "      <th>MSE</th>\n",
              "      <th>MSLE</th>\n",
              "      <th>RMSE</th>\n",
              "      <th>RMSLE</th>\n",
              "    </tr>\n",
              "  </thead>\n",
              "  <tbody>\n",
              "    <tr>\n",
              "      <th>0</th>\n",
              "      <td>DecisionTree</td>\n",
              "      <td>173.15925</td>\n",
              "      <td>0.08000</td>\n",
              "      <td>13.16</td>\n",
              "      <td>0.29000</td>\n",
              "    </tr>\n",
              "    <tr>\n",
              "      <th>1</th>\n",
              "      <td>KNN</td>\n",
              "      <td>153.39525</td>\n",
              "      <td>0.21094</td>\n",
              "      <td>12.39</td>\n",
              "      <td>0.45928</td>\n",
              "    </tr>\n",
              "  </tbody>\n",
              "</table>\n",
              "</div>"
            ],
            "text/plain": [
              "          Model        MSE     MSLE   RMSE    RMSLE\n",
              "0  DecisionTree  173.15925  0.08000  13.16  0.29000\n",
              "1           KNN  153.39525  0.21094  12.39  0.45928"
            ]
          },
          "execution_count": 70,
          "metadata": {},
          "output_type": "execute_result"
        }
      ],
      "source": [
        "results"
      ]
    },
    {
      "cell_type": "markdown",
      "metadata": {
        "id": "pqIJI8kx4N0l"
      },
      "source": [
        "## Model Evaluation (test)"
      ]
    },
    {
      "cell_type": "code",
      "execution_count": 71,
      "metadata": {
        "colab": {
          "base_uri": "https://localhost:8080/"
        },
        "id": "bJzyU-dP4N0l",
        "outputId": "c4db8b16-6b40-4c8a-bc6a-329a85e50801"
      },
      "outputs": [
        {
          "data": {
            "text/html": [
              "<div>\n",
              "<style scoped>\n",
              "    .dataframe tbody tr th:only-of-type {\n",
              "        vertical-align: middle;\n",
              "    }\n",
              "\n",
              "    .dataframe tbody tr th {\n",
              "        vertical-align: top;\n",
              "    }\n",
              "\n",
              "    .dataframe thead th {\n",
              "        text-align: right;\n",
              "    }\n",
              "</style>\n",
              "<table border=\"1\" class=\"dataframe\">\n",
              "  <thead>\n",
              "    <tr style=\"text-align: right;\">\n",
              "      <th></th>\n",
              "      <th>Model</th>\n",
              "      <th>MSE</th>\n",
              "      <th>MSLE</th>\n",
              "      <th>RMSE</th>\n",
              "      <th>RMSLE</th>\n",
              "    </tr>\n",
              "  </thead>\n",
              "  <tbody>\n",
              "    <tr>\n",
              "      <th>0</th>\n",
              "      <td>best_model</td>\n",
              "      <td>135.6335</td>\n",
              "      <td>0.221435</td>\n",
              "      <td>11.65</td>\n",
              "      <td>0.47057</td>\n",
              "    </tr>\n",
              "  </tbody>\n",
              "</table>\n",
              "</div>"
            ],
            "text/plain": [
              "        Model       MSE      MSLE   RMSE    RMSLE\n",
              "0  best_model  135.6335  0.221435  11.65  0.47057"
            ]
          },
          "execution_count": 71,
          "metadata": {},
          "output_type": "execute_result"
        }
      ],
      "source": [
        "X_test = test.drop(['clicks'], axis=1)\n",
        "y_test = test['clicks']\n",
        "\n",
        "best_model = neigh\n",
        "test_pred = best_model.predict(X_test)\n",
        "\n",
        "# Append the results to the DataFrame\n",
        "mse = mean_squared_error(y_test, test_pred)\n",
        "msle = mean_squared_log_error(y_test, test_pred)\n",
        "rmse = np.sqrt(mse).round(2)\n",
        "rmsle = np.sqrt(msle).round(5)\n",
        "\n",
        "results = pd.DataFrame([['best_model', mse, msle, rmse, rmsle]],\n",
        "                             columns=['Model', 'MSE', 'MSLE', 'RMSE', 'RMSLE'])\n",
        "results"
      ]
    },
    {
      "cell_type": "markdown",
      "metadata": {
        "id": "CL5LyUScBhVT"
      },
      "source": [
        "# Hyperparameter Tuning"
      ]
    },
    {
      "cell_type": "markdown",
      "metadata": {
        "id": "lfuyZwMQ4N0p"
      },
      "source": [
        "### predicting sales in our test"
      ]
    },
    {
      "cell_type": "code",
      "execution_count": 72,
      "metadata": {
        "colab": {
          "base_uri": "https://localhost:8080/"
        },
        "id": "VdiY19CV4N0q",
        "outputId": "5669d1aa-d9cb-4d40-ca23-1b01ad5099f2"
      },
      "outputs": [
        {
          "data": {
            "text/plain": [
              "array([3., 0., 2., ..., 0., 0., 0.])"
            ]
          },
          "execution_count": 72,
          "metadata": {},
          "output_type": "execute_result"
        }
      ],
      "source": [
        "test_pred = neigh.predict(test.drop(['clicks'], axis=1))\n",
        "test_pred"
      ]
    },
    {
      "cell_type": "code",
      "execution_count": 73,
      "metadata": {},
      "outputs": [],
      "source": [
        "concatenated_df = pd.concat([train, eval])\n",
        "test_neww = test.drop(['clicks'], axis=1)\n",
        "test_neww['clicks'] = test_pred\n",
        "concatenated_df = pd.concat([concatenated_df, test_neww])"
      ]
    },
    {
      "cell_type": "code",
      "execution_count": 74,
      "metadata": {},
      "outputs": [
        {
          "data": {
            "text/html": [
              "<div>\n",
              "<style scoped>\n",
              "    .dataframe tbody tr th:only-of-type {\n",
              "        vertical-align: middle;\n",
              "    }\n",
              "\n",
              "    .dataframe tbody tr th {\n",
              "        vertical-align: top;\n",
              "    }\n",
              "\n",
              "    .dataframe thead th {\n",
              "        text-align: right;\n",
              "    }\n",
              "</style>\n",
              "<table border=\"1\" class=\"dataframe\">\n",
              "  <thead>\n",
              "    <tr style=\"text-align: right;\">\n",
              "      <th></th>\n",
              "      <th>impressions</th>\n",
              "      <th>cost</th>\n",
              "      <th>conversions</th>\n",
              "      <th>duration</th>\n",
              "      <th>impression_share</th>\n",
              "      <th>conversions_calls</th>\n",
              "      <th>headline1_len</th>\n",
              "      <th>headline2_len</th>\n",
              "      <th>ad_description_len</th>\n",
              "      <th>ad_type_EXPANDED_DYNAMIC_SEARCH_AD</th>\n",
              "      <th>...</th>\n",
              "      <th>ID_ID_6568807cbb9c4d235c5dd9a8</th>\n",
              "      <th>ID_ID_65a7bf329fa4627faf28390c</th>\n",
              "      <th>ID_ID_65b0f65c7fe62e56c5593d55</th>\n",
              "      <th>call_type_Manually dialed</th>\n",
              "      <th>call_type_Mobile click-to-call</th>\n",
              "      <th>display_location_AD</th>\n",
              "      <th>display_location_LANDING_PAGE</th>\n",
              "      <th>display_location_Website</th>\n",
              "      <th>call_status</th>\n",
              "      <th>clicks</th>\n",
              "    </tr>\n",
              "    <tr>\n",
              "      <th>date</th>\n",
              "      <th></th>\n",
              "      <th></th>\n",
              "      <th></th>\n",
              "      <th></th>\n",
              "      <th></th>\n",
              "      <th></th>\n",
              "      <th></th>\n",
              "      <th></th>\n",
              "      <th></th>\n",
              "      <th></th>\n",
              "      <th></th>\n",
              "      <th></th>\n",
              "      <th></th>\n",
              "      <th></th>\n",
              "      <th></th>\n",
              "      <th></th>\n",
              "      <th></th>\n",
              "      <th></th>\n",
              "      <th></th>\n",
              "      <th></th>\n",
              "      <th></th>\n",
              "    </tr>\n",
              "  </thead>\n",
              "  <tbody>\n",
              "    <tr>\n",
              "      <th>2020-01-01</th>\n",
              "      <td>0.459514</td>\n",
              "      <td>0.162641</td>\n",
              "      <td>-0.073453</td>\n",
              "      <td>-0.691432</td>\n",
              "      <td>-0.02762</td>\n",
              "      <td>-0.237042</td>\n",
              "      <td>-0.471214</td>\n",
              "      <td>1.270069</td>\n",
              "      <td>0.068435</td>\n",
              "      <td>0.0</td>\n",
              "      <td>...</td>\n",
              "      <td>0.0</td>\n",
              "      <td>0.0</td>\n",
              "      <td>0.0</td>\n",
              "      <td>0.0</td>\n",
              "      <td>1.0</td>\n",
              "      <td>1.0</td>\n",
              "      <td>0.0</td>\n",
              "      <td>0.0</td>\n",
              "      <td>0</td>\n",
              "      <td>15.0</td>\n",
              "    </tr>\n",
              "    <tr>\n",
              "      <th>2020-01-01</th>\n",
              "      <td>0.111416</td>\n",
              "      <td>-0.050678</td>\n",
              "      <td>-0.073453</td>\n",
              "      <td>-0.691432</td>\n",
              "      <td>-0.02762</td>\n",
              "      <td>-0.237042</td>\n",
              "      <td>-0.471214</td>\n",
              "      <td>-0.525648</td>\n",
              "      <td>0.510454</td>\n",
              "      <td>0.0</td>\n",
              "      <td>...</td>\n",
              "      <td>0.0</td>\n",
              "      <td>0.0</td>\n",
              "      <td>0.0</td>\n",
              "      <td>0.0</td>\n",
              "      <td>1.0</td>\n",
              "      <td>1.0</td>\n",
              "      <td>0.0</td>\n",
              "      <td>0.0</td>\n",
              "      <td>0</td>\n",
              "      <td>8.0</td>\n",
              "    </tr>\n",
              "    <tr>\n",
              "      <th>2020-01-01</th>\n",
              "      <td>-0.085620</td>\n",
              "      <td>-0.060694</td>\n",
              "      <td>-0.073453</td>\n",
              "      <td>-0.691432</td>\n",
              "      <td>-0.02762</td>\n",
              "      <td>-0.237042</td>\n",
              "      <td>-0.471214</td>\n",
              "      <td>-0.525648</td>\n",
              "      <td>-0.152574</td>\n",
              "      <td>0.0</td>\n",
              "      <td>...</td>\n",
              "      <td>0.0</td>\n",
              "      <td>0.0</td>\n",
              "      <td>0.0</td>\n",
              "      <td>0.0</td>\n",
              "      <td>1.0</td>\n",
              "      <td>1.0</td>\n",
              "      <td>0.0</td>\n",
              "      <td>0.0</td>\n",
              "      <td>0</td>\n",
              "      <td>8.0</td>\n",
              "    </tr>\n",
              "    <tr>\n",
              "      <th>2020-01-01</th>\n",
              "      <td>0.039170</td>\n",
              "      <td>-0.172497</td>\n",
              "      <td>-0.073453</td>\n",
              "      <td>-0.691432</td>\n",
              "      <td>-0.02762</td>\n",
              "      <td>-0.237042</td>\n",
              "      <td>-0.471214</td>\n",
              "      <td>0.072924</td>\n",
              "      <td>0.510454</td>\n",
              "      <td>0.0</td>\n",
              "      <td>...</td>\n",
              "      <td>0.0</td>\n",
              "      <td>0.0</td>\n",
              "      <td>0.0</td>\n",
              "      <td>0.0</td>\n",
              "      <td>1.0</td>\n",
              "      <td>1.0</td>\n",
              "      <td>0.0</td>\n",
              "      <td>0.0</td>\n",
              "      <td>0</td>\n",
              "      <td>4.0</td>\n",
              "    </tr>\n",
              "    <tr>\n",
              "      <th>2020-01-01</th>\n",
              "      <td>-0.341767</td>\n",
              "      <td>-0.267246</td>\n",
              "      <td>-0.073453</td>\n",
              "      <td>-0.691432</td>\n",
              "      <td>-0.02762</td>\n",
              "      <td>-0.237042</td>\n",
              "      <td>-0.471214</td>\n",
              "      <td>-0.525648</td>\n",
              "      <td>0.510454</td>\n",
              "      <td>0.0</td>\n",
              "      <td>...</td>\n",
              "      <td>0.0</td>\n",
              "      <td>0.0</td>\n",
              "      <td>0.0</td>\n",
              "      <td>0.0</td>\n",
              "      <td>1.0</td>\n",
              "      <td>1.0</td>\n",
              "      <td>0.0</td>\n",
              "      <td>0.0</td>\n",
              "      <td>0</td>\n",
              "      <td>1.0</td>\n",
              "    </tr>\n",
              "  </tbody>\n",
              "</table>\n",
              "<p>5 rows × 206 columns</p>\n",
              "</div>"
            ],
            "text/plain": [
              "            impressions      cost  conversions  duration  impression_share  \\\n",
              "date                                                                         \n",
              "2020-01-01     0.459514  0.162641    -0.073453 -0.691432          -0.02762   \n",
              "2020-01-01     0.111416 -0.050678    -0.073453 -0.691432          -0.02762   \n",
              "2020-01-01    -0.085620 -0.060694    -0.073453 -0.691432          -0.02762   \n",
              "2020-01-01     0.039170 -0.172497    -0.073453 -0.691432          -0.02762   \n",
              "2020-01-01    -0.341767 -0.267246    -0.073453 -0.691432          -0.02762   \n",
              "\n",
              "            conversions_calls  headline1_len  headline2_len  \\\n",
              "date                                                          \n",
              "2020-01-01          -0.237042      -0.471214       1.270069   \n",
              "2020-01-01          -0.237042      -0.471214      -0.525648   \n",
              "2020-01-01          -0.237042      -0.471214      -0.525648   \n",
              "2020-01-01          -0.237042      -0.471214       0.072924   \n",
              "2020-01-01          -0.237042      -0.471214      -0.525648   \n",
              "\n",
              "            ad_description_len  ad_type_EXPANDED_DYNAMIC_SEARCH_AD  ...  \\\n",
              "date                                                                ...   \n",
              "2020-01-01            0.068435                                 0.0  ...   \n",
              "2020-01-01            0.510454                                 0.0  ...   \n",
              "2020-01-01           -0.152574                                 0.0  ...   \n",
              "2020-01-01            0.510454                                 0.0  ...   \n",
              "2020-01-01            0.510454                                 0.0  ...   \n",
              "\n",
              "            ID_ID_6568807cbb9c4d235c5dd9a8  ID_ID_65a7bf329fa4627faf28390c  \\\n",
              "date                                                                         \n",
              "2020-01-01                             0.0                             0.0   \n",
              "2020-01-01                             0.0                             0.0   \n",
              "2020-01-01                             0.0                             0.0   \n",
              "2020-01-01                             0.0                             0.0   \n",
              "2020-01-01                             0.0                             0.0   \n",
              "\n",
              "            ID_ID_65b0f65c7fe62e56c5593d55  call_type_Manually dialed  \\\n",
              "date                                                                    \n",
              "2020-01-01                             0.0                        0.0   \n",
              "2020-01-01                             0.0                        0.0   \n",
              "2020-01-01                             0.0                        0.0   \n",
              "2020-01-01                             0.0                        0.0   \n",
              "2020-01-01                             0.0                        0.0   \n",
              "\n",
              "            call_type_Mobile click-to-call  display_location_AD  \\\n",
              "date                                                              \n",
              "2020-01-01                             1.0                  1.0   \n",
              "2020-01-01                             1.0                  1.0   \n",
              "2020-01-01                             1.0                  1.0   \n",
              "2020-01-01                             1.0                  1.0   \n",
              "2020-01-01                             1.0                  1.0   \n",
              "\n",
              "            display_location_LANDING_PAGE  display_location_Website  \\\n",
              "date                                                                  \n",
              "2020-01-01                            0.0                       0.0   \n",
              "2020-01-01                            0.0                       0.0   \n",
              "2020-01-01                            0.0                       0.0   \n",
              "2020-01-01                            0.0                       0.0   \n",
              "2020-01-01                            0.0                       0.0   \n",
              "\n",
              "            call_status  clicks  \n",
              "date                             \n",
              "2020-01-01            0    15.0  \n",
              "2020-01-01            0     8.0  \n",
              "2020-01-01            0     8.0  \n",
              "2020-01-01            0     4.0  \n",
              "2020-01-01            0     1.0  \n",
              "\n",
              "[5 rows x 206 columns]"
            ]
          },
          "execution_count": 74,
          "metadata": {},
          "output_type": "execute_result"
        }
      ],
      "source": [
        "concatenated_df.head()"
      ]
    },
    {
      "cell_type": "code",
      "execution_count": 75,
      "metadata": {},
      "outputs": [],
      "source": [
        "concatenated_df = concatenated_df.sort_index()"
      ]
    },
    {
      "cell_type": "code",
      "execution_count": 76,
      "metadata": {},
      "outputs": [],
      "source": [
        "# Resample numerical columns by daily sum\n",
        "concatenated_df = concatenated_df['clicks'].resample('D').sum().reset_index()"
      ]
    },
    {
      "cell_type": "code",
      "execution_count": 77,
      "metadata": {},
      "outputs": [
        {
          "data": {
            "text/html": [
              "<div>\n",
              "<style scoped>\n",
              "    .dataframe tbody tr th:only-of-type {\n",
              "        vertical-align: middle;\n",
              "    }\n",
              "\n",
              "    .dataframe tbody tr th {\n",
              "        vertical-align: top;\n",
              "    }\n",
              "\n",
              "    .dataframe thead th {\n",
              "        text-align: right;\n",
              "    }\n",
              "</style>\n",
              "<table border=\"1\" class=\"dataframe\">\n",
              "  <thead>\n",
              "    <tr style=\"text-align: right;\">\n",
              "      <th></th>\n",
              "      <th>date</th>\n",
              "      <th>clicks</th>\n",
              "    </tr>\n",
              "  </thead>\n",
              "  <tbody>\n",
              "    <tr>\n",
              "      <th>0</th>\n",
              "      <td>2020-01-01</td>\n",
              "      <td>36.0</td>\n",
              "    </tr>\n",
              "    <tr>\n",
              "      <th>1</th>\n",
              "      <td>2020-01-02</td>\n",
              "      <td>50.0</td>\n",
              "    </tr>\n",
              "    <tr>\n",
              "      <th>2</th>\n",
              "      <td>2020-01-03</td>\n",
              "      <td>54.0</td>\n",
              "    </tr>\n",
              "    <tr>\n",
              "      <th>3</th>\n",
              "      <td>2020-01-04</td>\n",
              "      <td>47.0</td>\n",
              "    </tr>\n",
              "    <tr>\n",
              "      <th>4</th>\n",
              "      <td>2020-01-05</td>\n",
              "      <td>59.0</td>\n",
              "    </tr>\n",
              "  </tbody>\n",
              "</table>\n",
              "</div>"
            ],
            "text/plain": [
              "        date  clicks\n",
              "0 2020-01-01    36.0\n",
              "1 2020-01-02    50.0\n",
              "2 2020-01-03    54.0\n",
              "3 2020-01-04    47.0\n",
              "4 2020-01-05    59.0"
            ]
          },
          "execution_count": 77,
          "metadata": {},
          "output_type": "execute_result"
        }
      ],
      "source": [
        "concatenated_df.head()"
      ]
    },
    {
      "cell_type": "code",
      "execution_count": 78,
      "metadata": {},
      "outputs": [
        {
          "data": {
            "text/html": [
              "<div>\n",
              "<style scoped>\n",
              "    .dataframe tbody tr th:only-of-type {\n",
              "        vertical-align: middle;\n",
              "    }\n",
              "\n",
              "    .dataframe tbody tr th {\n",
              "        vertical-align: top;\n",
              "    }\n",
              "\n",
              "    .dataframe thead th {\n",
              "        text-align: right;\n",
              "    }\n",
              "</style>\n",
              "<table border=\"1\" class=\"dataframe\">\n",
              "  <thead>\n",
              "    <tr style=\"text-align: right;\">\n",
              "      <th></th>\n",
              "      <th>ID</th>\n",
              "      <th>clicks</th>\n",
              "      <th>date</th>\n",
              "      <th>impressions</th>\n",
              "      <th>cost</th>\n",
              "      <th>conversions</th>\n",
              "      <th>duration</th>\n",
              "      <th>impression_share</th>\n",
              "      <th>conversions_calls</th>\n",
              "      <th>headline1_len</th>\n",
              "      <th>headline2_len</th>\n",
              "      <th>ad_description_len</th>\n",
              "      <th>ad_type</th>\n",
              "      <th>currency</th>\n",
              "      <th>call_type</th>\n",
              "      <th>display_location</th>\n",
              "      <th>call_status</th>\n",
              "    </tr>\n",
              "  </thead>\n",
              "  <tbody>\n",
              "    <tr>\n",
              "      <th>0</th>\n",
              "      <td>ID_5da86e71bf5dee4cf5047046</td>\n",
              "      <td>0.0</td>\n",
              "      <td>2024-01-22</td>\n",
              "      <td>0.0</td>\n",
              "      <td>0.0</td>\n",
              "      <td>0.0</td>\n",
              "      <td>0.0</td>\n",
              "      <td>0.0</td>\n",
              "      <td>0.0</td>\n",
              "      <td>0.0</td>\n",
              "      <td>0.0</td>\n",
              "      <td>0.0</td>\n",
              "      <td>NaN</td>\n",
              "      <td>NaN</td>\n",
              "      <td>NaN</td>\n",
              "      <td>NaN</td>\n",
              "      <td>NaN</td>\n",
              "    </tr>\n",
              "  </tbody>\n",
              "</table>\n",
              "</div>"
            ],
            "text/plain": [
              "                            ID  clicks       date  impressions  cost  \\\n",
              "0  ID_5da86e71bf5dee4cf5047046     0.0 2024-01-22          0.0   0.0   \n",
              "\n",
              "   conversions  duration  impression_share  conversions_calls  headline1_len  \\\n",
              "0          0.0       0.0               0.0                0.0            0.0   \n",
              "\n",
              "   headline2_len  ad_description_len ad_type currency call_type  \\\n",
              "0            0.0                 0.0     NaN      NaN       NaN   \n",
              "\n",
              "  display_location call_status  \n",
              "0              NaN         NaN  "
            ]
          },
          "execution_count": 78,
          "metadata": {},
          "output_type": "execute_result"
        }
      ],
      "source": [
        "sample_new.head(1)"
      ]
    },
    {
      "cell_type": "code",
      "execution_count": 82,
      "metadata": {},
      "outputs": [
        {
          "data": {
            "text/html": [
              "<div>\n",
              "<style scoped>\n",
              "    .dataframe tbody tr th:only-of-type {\n",
              "        vertical-align: middle;\n",
              "    }\n",
              "\n",
              "    .dataframe tbody tr th {\n",
              "        vertical-align: top;\n",
              "    }\n",
              "\n",
              "    .dataframe thead th {\n",
              "        text-align: right;\n",
              "    }\n",
              "</style>\n",
              "<table border=\"1\" class=\"dataframe\">\n",
              "  <thead>\n",
              "    <tr style=\"text-align: right;\">\n",
              "      <th></th>\n",
              "      <th>ID</th>\n",
              "      <th>clicks</th>\n",
              "      <th>date</th>\n",
              "      <th>impressions</th>\n",
              "      <th>cost</th>\n",
              "      <th>conversions</th>\n",
              "      <th>duration</th>\n",
              "      <th>impression_share</th>\n",
              "      <th>conversions_calls</th>\n",
              "      <th>headline1_len</th>\n",
              "      <th>headline2_len</th>\n",
              "      <th>ad_description_len</th>\n",
              "      <th>ad_type</th>\n",
              "      <th>currency</th>\n",
              "      <th>call_type</th>\n",
              "      <th>display_location</th>\n",
              "      <th>call_status</th>\n",
              "    </tr>\n",
              "  </thead>\n",
              "  <tbody>\n",
              "    <tr>\n",
              "      <th>0</th>\n",
              "      <td>ID_5da86e71bf5dee4cf5047046</td>\n",
              "      <td>3412.0</td>\n",
              "      <td>2024-01-22</td>\n",
              "      <td>0.0</td>\n",
              "      <td>0.0</td>\n",
              "      <td>0.0</td>\n",
              "      <td>0.0</td>\n",
              "      <td>0.0</td>\n",
              "      <td>0.0</td>\n",
              "      <td>0.0</td>\n",
              "      <td>0.0</td>\n",
              "      <td>0.0</td>\n",
              "      <td>NaN</td>\n",
              "      <td>NaN</td>\n",
              "      <td>NaN</td>\n",
              "      <td>NaN</td>\n",
              "      <td>NaN</td>\n",
              "    </tr>\n",
              "    <tr>\n",
              "      <th>1</th>\n",
              "      <td>ID_5da86e71bf5dee4cf5047046</td>\n",
              "      <td>3904.0</td>\n",
              "      <td>2024-01-29</td>\n",
              "      <td>0.0</td>\n",
              "      <td>0.0</td>\n",
              "      <td>0.0</td>\n",
              "      <td>0.0</td>\n",
              "      <td>0.0</td>\n",
              "      <td>0.0</td>\n",
              "      <td>0.0</td>\n",
              "      <td>0.0</td>\n",
              "      <td>0.0</td>\n",
              "      <td>NaN</td>\n",
              "      <td>NaN</td>\n",
              "      <td>NaN</td>\n",
              "      <td>NaN</td>\n",
              "      <td>NaN</td>\n",
              "    </tr>\n",
              "    <tr>\n",
              "      <th>2</th>\n",
              "      <td>ID_5e43c29e6279884e2827d894</td>\n",
              "      <td>0.0</td>\n",
              "      <td>2024-02-21</td>\n",
              "      <td>0.0</td>\n",
              "      <td>0.0</td>\n",
              "      <td>0.0</td>\n",
              "      <td>0.0</td>\n",
              "      <td>0.0</td>\n",
              "      <td>0.0</td>\n",
              "      <td>0.0</td>\n",
              "      <td>0.0</td>\n",
              "      <td>0.0</td>\n",
              "      <td>NaN</td>\n",
              "      <td>NaN</td>\n",
              "      <td>NaN</td>\n",
              "      <td>NaN</td>\n",
              "      <td>NaN</td>\n",
              "    </tr>\n",
              "    <tr>\n",
              "      <th>3</th>\n",
              "      <td>ID_5e43c29e6279884e2827d894</td>\n",
              "      <td>0.0</td>\n",
              "      <td>2024-02-28</td>\n",
              "      <td>0.0</td>\n",
              "      <td>0.0</td>\n",
              "      <td>0.0</td>\n",
              "      <td>0.0</td>\n",
              "      <td>0.0</td>\n",
              "      <td>0.0</td>\n",
              "      <td>0.0</td>\n",
              "      <td>0.0</td>\n",
              "      <td>0.0</td>\n",
              "      <td>NaN</td>\n",
              "      <td>NaN</td>\n",
              "      <td>NaN</td>\n",
              "      <td>NaN</td>\n",
              "      <td>NaN</td>\n",
              "    </tr>\n",
              "    <tr>\n",
              "      <th>4</th>\n",
              "      <td>ID_5e4e7b480e374330ee151305</td>\n",
              "      <td>3332.0</td>\n",
              "      <td>2023-12-04</td>\n",
              "      <td>0.0</td>\n",
              "      <td>0.0</td>\n",
              "      <td>0.0</td>\n",
              "      <td>0.0</td>\n",
              "      <td>0.0</td>\n",
              "      <td>0.0</td>\n",
              "      <td>0.0</td>\n",
              "      <td>0.0</td>\n",
              "      <td>0.0</td>\n",
              "      <td>NaN</td>\n",
              "      <td>NaN</td>\n",
              "      <td>NaN</td>\n",
              "      <td>NaN</td>\n",
              "      <td>NaN</td>\n",
              "    </tr>\n",
              "  </tbody>\n",
              "</table>\n",
              "</div>"
            ],
            "text/plain": [
              "                            ID  clicks       date  impressions  cost  \\\n",
              "0  ID_5da86e71bf5dee4cf5047046  3412.0 2024-01-22          0.0   0.0   \n",
              "1  ID_5da86e71bf5dee4cf5047046  3904.0 2024-01-29          0.0   0.0   \n",
              "2  ID_5e43c29e6279884e2827d894     0.0 2024-02-21          0.0   0.0   \n",
              "3  ID_5e43c29e6279884e2827d894     0.0 2024-02-28          0.0   0.0   \n",
              "4  ID_5e4e7b480e374330ee151305  3332.0 2023-12-04          0.0   0.0   \n",
              "\n",
              "   conversions  duration  impression_share  conversions_calls  headline1_len  \\\n",
              "0          0.0       0.0               0.0                0.0            0.0   \n",
              "1          0.0       0.0               0.0                0.0            0.0   \n",
              "2          0.0       0.0               0.0                0.0            0.0   \n",
              "3          0.0       0.0               0.0                0.0            0.0   \n",
              "4          0.0       0.0               0.0                0.0            0.0   \n",
              "\n",
              "   headline2_len  ad_description_len ad_type currency call_type  \\\n",
              "0            0.0                 0.0     NaN      NaN       NaN   \n",
              "1            0.0                 0.0     NaN      NaN       NaN   \n",
              "2            0.0                 0.0     NaN      NaN       NaN   \n",
              "3            0.0                 0.0     NaN      NaN       NaN   \n",
              "4            0.0                 0.0     NaN      NaN       NaN   \n",
              "\n",
              "  display_location call_status  \n",
              "0              NaN         NaN  \n",
              "1              NaN         NaN  \n",
              "2              NaN         NaN  \n",
              "3              NaN         NaN  \n",
              "4              NaN         NaN  "
            ]
          },
          "execution_count": 82,
          "metadata": {},
          "output_type": "execute_result"
        }
      ],
      "source": [
        "# look up each date in sample in the concatenated_df and get the clicks column, use this to create a clicks column in sample\n",
        "# Merge sample_new with concatenated_df on the 'date' column\n",
        "merged_df = sample_new.merge(concatenated_df, on='date', how='left')\n",
        "\n",
        "# Fill the 'clicks' column in sample_new with corresponding values from concatenated_df\n",
        "sample_new['clicks'] = merged_df['clicks_y']\n",
        "\n",
        "sample_new.head()"
      ]
    },
    {
      "cell_type": "code",
      "execution_count": 83,
      "metadata": {},
      "outputs": [],
      "source": [
        "sub = sample_new[['ID', 'clicks']]"
      ]
    },
    {
      "cell_type": "code",
      "execution_count": 84,
      "metadata": {
        "id": "_9M_q1aq4N0r"
      },
      "outputs": [],
      "source": [
        "# Save sample submission\n",
        "sub.to_csv('submission.csv', index=False)"
      ]
    },
    {
      "cell_type": "code",
      "execution_count": null,
      "metadata": {
        "id": "7JtHj2gv4N0s"
      },
      "outputs": [],
      "source": []
    }
  ],
  "metadata": {
    "accelerator": "GPU",
    "colab": {
      "gpuType": "T4",
      "include_colab_link": true,
      "provenance": [],
      "toc_visible": true
    },
    "kernelspec": {
      "display_name": "Python 3",
      "name": "python3"
    },
    "language_info": {
      "codemirror_mode": {
        "name": "ipython",
        "version": 3
      },
      "file_extension": ".py",
      "mimetype": "text/x-python",
      "name": "python",
      "nbconvert_exporter": "python",
      "pygments_lexer": "ipython3",
      "version": "3.10.13"
    },
    "vscode": {
      "interpreter": {
        "hash": "7679c2132d3f6ce38c9df14d554b39c06862b36a4e6689c81f9ae15bd0911d7d"
      }
    }
  },
  "nbformat": 4,
  "nbformat_minor": 0
}
