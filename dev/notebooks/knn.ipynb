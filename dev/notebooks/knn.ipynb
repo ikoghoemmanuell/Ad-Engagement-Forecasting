{
 "cells": [
  {
   "cell_type": "code",
   "execution_count": 17,
   "metadata": {},
   "outputs": [],
   "source": [
    "import pandas as pd\n",
    "import seaborn as sns\n",
    "import numpy as np\n",
    "from sklearn.neighbors import KNeighborsRegressor"
   ]
  },
  {
   "cell_type": "code",
   "execution_count": 18,
   "metadata": {},
   "outputs": [],
   "source": [
    "df = pd.read_csv('../../assets/data/Train.csv')\n",
    "submission = pd.read_csv('../../assets/data/SampleSubmission.csv')"
   ]
  },
  {
   "cell_type": "code",
   "execution_count": 19,
   "metadata": {},
   "outputs": [],
   "source": [
    "df = df.dropna(subset=['clicks']) # delete rows where clicks is NaN\n",
    "df.reset_index(drop=True, inplace=True)\n"
   ]
  },
  {
   "cell_type": "code",
   "execution_count": 20,
   "metadata": {},
   "outputs": [],
   "source": [
    "df = df[['ID', 'date', 'clicks']]\n",
    "df = df.sort_values(by=['ID', 'date']).reset_index(drop=True)\n"
   ]
  },
  {
   "cell_type": "code",
   "execution_count": 21,
   "metadata": {},
   "outputs": [],
   "source": [
    "grouped_df = df.groupby(['date', 'ID']).sum().reset_index()\n"
   ]
  },
  {
   "cell_type": "code",
   "execution_count": 22,
   "metadata": {},
   "outputs": [],
   "source": [
    "grouped_df['date'] = pd.to_datetime(grouped_df['date'])\n"
   ]
  },
  {
   "cell_type": "markdown",
   "metadata": {},
   "source": [
    "set nearest neighbours as window"
   ]
  },
  {
   "cell_type": "code",
   "execution_count": 23,
   "metadata": {},
   "outputs": [],
   "source": [
    "forecast_columns = ['clicks']\n",
    "# This function uses KNN to forecast future values of a time series using the index as input.\n",
    "def knn_forecast(series, window, forecast_horizon, n_neighbors): \n",
    "# it takes in a series(the series is the 'clicks' column in this case), \n",
    "# window size(num of past data in the series to consider - in this case I used 13 (approx 2 weeks in the past)), \n",
    "# forecast horizon (num of days to forecast into the future - in this case I used 16 (approx 2 weeks into the future)),\n",
    "# and number of neighbors (number of neighbours to consider in the KNN model - in this case I used 1)\n",
    "    # Prepare training data for KNN\n",
    "    X_train = np.arange(len(series)).reshape(-1, 1) # index of the series\n",
    "    y_train = series.values # values of the series\n",
    "\n",
    "    # Initialize KNN model\n",
    "    knn = KNeighborsRegressor(n_neighbors=n_neighbors)\n",
    "    knn.fit(X_train, y_train) # input is index, output is value\n",
    "\n",
    "    # Predict the next values using the trained KNN model\n",
    "    last_index = len(series) - 1 # index of the last value in the series\n",
    "    X_forecast = np.arange(last_index + 1, last_index + 1 + forecast_horizon).reshape(-1, 1) # index of the values to forecast so as to predict the values for that index\n",
    "    forecast = knn.predict(X_forecast)\n",
    "\n",
    "    return forecast # return the forecasted values\n"
   ]
  },
  {
   "cell_type": "code",
   "execution_count": 24,
   "metadata": {},
   "outputs": [],
   "source": [
    "# this fn takes in group (a df with data for one specific ID), \n",
    "# and returns a lookalike df with forecasted clicks for the next forecast horizon(16days/2weeks) \n",
    "# based on the past window(13days/2weeks) of clicks from the group\n",
    "def add_knn_forecasts(group, forecast_horizon, window):\n",
    "    # group: A DataFrame containing data for one specific ID\n",
    "    group = group.set_index('date') # set the date column as the index, these are dates for one specific ID\n",
    "    group.index = pd.to_datetime(group.index) # set the datatype of the index(which is now date) to datetime\n",
    "    group = group.asfreq('D', method='ffill') # set the frequency of the index to daily and forward fill the missing values\n",
    "\n",
    "    last_date = group.index.max() # get the last date in the index (last date for that specific ID)\n",
    "    forecast_dates = pd.date_range(start=last_date, periods=forecast_horizon + 1, freq='D')[1:] # a range of dates to be forecasted (from after the last date to the forecast horizon)\n",
    "    forecast_data = {} # for storing forecasted values for each column in forecast_columns (in this case, clicks)\n",
    "\n",
    "    for col in forecast_columns: # in this case, for clicks:\n",
    "        forecast_data[col] = knn_forecast(group[col], window, forecast_horizon, n_neighbors= window) # clicks = (the fn takes in d clicks column for each date(day) for one specific ID, then returrns the future clicks for the forecast horizon (16days/2weeks))\n",
    "\n",
    "    forecast_df = pd.DataFrame(forecast_data, index=forecast_dates) # a df containing forcasted clicks with forecast_dates as index\n",
    "    forecast_df['ID'] = group['ID'].iloc[0] # sets all the ID as the specific ID of this group (since this forecast is for only one ID)\n",
    "    forecast_df['is_forecast'] = True # indicates thst these rows have been forecasted\n",
    "\n",
    "    group = group.reset_index() # turning group back to original form\n",
    "    forecast_df = forecast_df.reset_index().rename(columns={'index': 'date'}) # making forecast_df look exactly like group\n",
    "\n",
    "    return forecast_df # returns the forecasted df with columns: date, ID, clicks, is_forecast=True)\n"
   ]
  },
  {
   "cell_type": "code",
   "execution_count": 25,
   "metadata": {},
   "outputs": [
    {
     "name": "stderr",
     "output_type": "stream",
     "text": [
      "C:\\Users\\LENOVO\\AppData\\Local\\Temp\\ipykernel_436\\2838014938.py:9: FutureWarning: Downcasting object dtype arrays on .fillna, .ffill, .bfill is deprecated and will change in a future version. Call result.infer_objects(copy=False) instead. To opt-in to the future behavior, set `pd.set_option('future.no_silent_downcasting', True)`\n",
      "  grouped_df['is_forecast'] = grouped_df['is_forecast'].fillna(False) # set missing values in is_forecast to False (to show that these rows were not forecasted)\n"
     ]
    }
   ],
   "source": [
    "all_data = [] # empty list for all data\n",
    "window_size = 1\n",
    "forecast_horizon = 16\n",
    "for name, group in grouped_df.groupby(['ID']): # for each group of specific IDs:\n",
    "    forecast_df = add_knn_forecasts(group, forecast_horizon, window_size) # get the forecasted df for that specific ID\n",
    "    all_data.append(pd.concat([group.reset_index(drop=True), forecast_df])) # concat the df for that ID with its forecasted df and append to empty list of all_data\n",
    "\n",
    "grouped_df = pd.concat(all_data).sort_values(by=['ID', 'date']) # turn the list of all_data to a df and sort by ID and date\n",
    "grouped_df['is_forecast'] = grouped_df['is_forecast'].fillna(False) # set missing values in is_forecast to False (to show that these rows were not forecasted)\n"
   ]
  },
  {
   "cell_type": "code",
   "execution_count": 26,
   "metadata": {},
   "outputs": [],
   "source": [
    "train = grouped_df[grouped_df['is_forecast'] == False]\n",
    "test = grouped_df[grouped_df['is_forecast'] == True] # test = a df containing only forecasted rows\n"
   ]
  },
  {
   "cell_type": "code",
   "execution_count": 27,
   "metadata": {},
   "outputs": [],
   "source": [
    "sub = submission.copy()\n",
    "\n",
    "              # split ID column into date and ID \n",
    "sub[['year', 'month', 'day']] = sub['ID'].str.extract(r'_(\\d{4})_(\\d{2})_(\\d{2})')\n",
    "sub['ID'] = sub['ID'].str.replace(r'(_\\d{4}_\\d{2}_\\d{2})$', '', regex=True)\n",
    "sub['date'] = pd.to_datetime(sub[['year', 'month', 'day']])\n"
   ]
  },
  {
   "cell_type": "code",
   "execution_count": 28,
   "metadata": {},
   "outputs": [],
   "source": [
    "filtered_test = pd.merge(test, sub[['ID', 'date']], on=['ID', 'date']) # all rows in test r kept\n",
    "merge_df = pd.merge(sub, filtered_test, on=['ID', 'date'], how='left') # all rows in sub are kept\n"
   ]
  },
  {
   "cell_type": "code",
   "execution_count": 29,
   "metadata": {},
   "outputs": [
    {
     "data": {
      "text/html": [
       "<div>\n",
       "<style scoped>\n",
       "    .dataframe tbody tr th:only-of-type {\n",
       "        vertical-align: middle;\n",
       "    }\n",
       "\n",
       "    .dataframe tbody tr th {\n",
       "        vertical-align: top;\n",
       "    }\n",
       "\n",
       "    .dataframe thead th {\n",
       "        text-align: right;\n",
       "    }\n",
       "</style>\n",
       "<table border=\"1\" class=\"dataframe\">\n",
       "  <thead>\n",
       "    <tr style=\"text-align: right;\">\n",
       "      <th></th>\n",
       "      <th>ID</th>\n",
       "      <th>clicks_x</th>\n",
       "      <th>year</th>\n",
       "      <th>month</th>\n",
       "      <th>day</th>\n",
       "      <th>date</th>\n",
       "      <th>clicks_y</th>\n",
       "      <th>is_forecast</th>\n",
       "    </tr>\n",
       "  </thead>\n",
       "  <tbody>\n",
       "    <tr>\n",
       "      <th>0</th>\n",
       "      <td>ID_5da86e71bf5dee4cf5047046</td>\n",
       "      <td>0</td>\n",
       "      <td>2024</td>\n",
       "      <td>01</td>\n",
       "      <td>22</td>\n",
       "      <td>2024-01-22</td>\n",
       "      <td>114.0</td>\n",
       "      <td>True</td>\n",
       "    </tr>\n",
       "    <tr>\n",
       "      <th>1</th>\n",
       "      <td>ID_5da86e71bf5dee4cf5047046</td>\n",
       "      <td>0</td>\n",
       "      <td>2024</td>\n",
       "      <td>01</td>\n",
       "      <td>29</td>\n",
       "      <td>2024-01-29</td>\n",
       "      <td>114.0</td>\n",
       "      <td>True</td>\n",
       "    </tr>\n",
       "    <tr>\n",
       "      <th>2</th>\n",
       "      <td>ID_5e43c29e6279884e2827d894</td>\n",
       "      <td>0</td>\n",
       "      <td>2024</td>\n",
       "      <td>02</td>\n",
       "      <td>21</td>\n",
       "      <td>2024-02-21</td>\n",
       "      <td>6.0</td>\n",
       "      <td>True</td>\n",
       "    </tr>\n",
       "    <tr>\n",
       "      <th>3</th>\n",
       "      <td>ID_5e43c29e6279884e2827d894</td>\n",
       "      <td>0</td>\n",
       "      <td>2024</td>\n",
       "      <td>02</td>\n",
       "      <td>28</td>\n",
       "      <td>2024-02-28</td>\n",
       "      <td>6.0</td>\n",
       "      <td>True</td>\n",
       "    </tr>\n",
       "    <tr>\n",
       "      <th>4</th>\n",
       "      <td>ID_5e4e7b480e374330ee151305</td>\n",
       "      <td>0</td>\n",
       "      <td>2023</td>\n",
       "      <td>12</td>\n",
       "      <td>04</td>\n",
       "      <td>2023-12-04</td>\n",
       "      <td>2.0</td>\n",
       "      <td>True</td>\n",
       "    </tr>\n",
       "  </tbody>\n",
       "</table>\n",
       "</div>"
      ],
      "text/plain": [
       "                            ID  clicks_x  year month day       date  clicks_y  \\\n",
       "0  ID_5da86e71bf5dee4cf5047046         0  2024    01  22 2024-01-22     114.0   \n",
       "1  ID_5da86e71bf5dee4cf5047046         0  2024    01  29 2024-01-29     114.0   \n",
       "2  ID_5e43c29e6279884e2827d894         0  2024    02  21 2024-02-21       6.0   \n",
       "3  ID_5e43c29e6279884e2827d894         0  2024    02  28 2024-02-28       6.0   \n",
       "4  ID_5e4e7b480e374330ee151305         0  2023    12  04 2023-12-04       2.0   \n",
       "\n",
       "  is_forecast  \n",
       "0        True  \n",
       "1        True  \n",
       "2        True  \n",
       "3        True  \n",
       "4        True  "
      ]
     },
     "execution_count": 29,
     "metadata": {},
     "output_type": "execute_result"
    }
   ],
   "source": [
    "merge_df.head()"
   ]
  },
  {
   "cell_type": "code",
   "execution_count": 30,
   "metadata": {},
   "outputs": [],
   "source": [
    "click_sums = merge_df.groupby(['ID', 'date'])['clicks_y'].sum().reset_index()\n",
    "click_sums.rename(columns={'clicks_y': 'sum_clicks'}, inplace=True)\n"
   ]
  },
  {
   "cell_type": "code",
   "execution_count": 31,
   "metadata": {},
   "outputs": [],
   "source": [
    "sub = pd.merge(sub, click_sums, on=['ID', 'date'], how='left')\n",
    "sub['clicks'] = sub['sum_clicks']\n",
    "\n",
    "sub.drop(columns='sum_clicks', inplace=True)\n",
    "sub['clicks'] = sub['clicks'].round() # round to nearest whole number\n",
    "submission['clicks'] = sub['clicks']\n"
   ]
  },
  {
   "cell_type": "code",
   "execution_count": 32,
   "metadata": {},
   "outputs": [],
   "source": [
    "submission.to_csv('submission.csv', index=False)\n"
   ]
  }
 ],
 "metadata": {
  "kernelspec": {
   "display_name": "venv",
   "language": "python",
   "name": "python3"
  },
  "language_info": {
   "codemirror_mode": {
    "name": "ipython",
    "version": 3
   },
   "file_extension": ".py",
   "mimetype": "text/x-python",
   "name": "python",
   "nbconvert_exporter": "python",
   "pygments_lexer": "ipython3",
   "version": "3.10.10"
  }
 },
 "nbformat": 4,
 "nbformat_minor": 2
}
