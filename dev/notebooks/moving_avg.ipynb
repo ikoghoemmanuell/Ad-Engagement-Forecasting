{
 "cells": [
  {
   "cell_type": "code",
   "execution_count": 1,
   "id": "71fa0166-97e3-4bde-b08e-30958c19b6d2",
   "metadata": {},
   "outputs": [],
   "source": [
    "import pandas as pd\n",
    "import seaborn as sns\n",
    "import numpy as np\n",
    "import statistics\n",
    "\n",
    "pd.set_option('display.max_columns', None)\n",
    "pd.set_option('display.max_rows', None)\n",
    "pd.set_option('mode.chained_assignment', None)\n",
    "\n",
    "df = pd.read_csv('Train.csv')\n",
    "submission = pd.read_csv('SampleSubmission.csv')"
   ]
  },
  {
   "cell_type": "code",
   "execution_count": 2,
   "id": "11a28195-dfa9-49c1-812a-a4a118eddd97",
   "metadata": {},
   "outputs": [],
   "source": [
    "df = df.dropna(subset=['clicks']) \n",
    "df.reset_index(drop=True, inplace=True)"
   ]
  },
  {
   "cell_type": "code",
   "execution_count": 3,
   "id": "64df7d56-5860-4aa3-820b-9c1c6ff86a54",
   "metadata": {},
   "outputs": [],
   "source": [
    "df = df[['ID', 'date','clicks']]\n",
    "df = df.sort_values(by=['ID', 'date']).reset_index(drop=True)"
   ]
  },
  {
   "cell_type": "code",
   "execution_count": 4,
   "id": "d29b27f8-f087-472c-9bcc-bd59d5c3fb97",
   "metadata": {},
   "outputs": [],
   "source": [
    "grouped_df = df.groupby(['date', 'ID']).sum()\n",
    "grouped_df = grouped_df.reset_index()\n",
    "grouped_df['date'] = pd.to_datetime(grouped_df['date'])"
   ]
  },
  {
   "cell_type": "code",
   "execution_count": 5,
   "id": "ff967c9e-cca2-41e4-989e-f6d41c76d4e1",
   "metadata": {},
   "outputs": [
    {
     "data": {
      "text/html": [
       "<div>\n",
       "<style scoped>\n",
       "    .dataframe tbody tr th:only-of-type {\n",
       "        vertical-align: middle;\n",
       "    }\n",
       "\n",
       "    .dataframe tbody tr th {\n",
       "        vertical-align: top;\n",
       "    }\n",
       "\n",
       "    .dataframe thead th {\n",
       "        text-align: right;\n",
       "    }\n",
       "</style>\n",
       "<table border=\"1\" class=\"dataframe\">\n",
       "  <thead>\n",
       "    <tr style=\"text-align: right;\">\n",
       "      <th></th>\n",
       "      <th>date</th>\n",
       "      <th>ID</th>\n",
       "      <th>clicks</th>\n",
       "    </tr>\n",
       "  </thead>\n",
       "  <tbody>\n",
       "    <tr>\n",
       "      <th>0</th>\n",
       "      <td>2020-01-01</td>\n",
       "      <td>ID_5da86e71bf5dee4cf5047046</td>\n",
       "      <td>36.0</td>\n",
       "    </tr>\n",
       "    <tr>\n",
       "      <th>1</th>\n",
       "      <td>2020-01-02</td>\n",
       "      <td>ID_5da86e71bf5dee4cf5047046</td>\n",
       "      <td>50.0</td>\n",
       "    </tr>\n",
       "  </tbody>\n",
       "</table>\n",
       "</div>"
      ],
      "text/plain": [
       "        date                           ID  clicks\n",
       "0 2020-01-01  ID_5da86e71bf5dee4cf5047046    36.0\n",
       "1 2020-01-02  ID_5da86e71bf5dee4cf5047046    50.0"
      ]
     },
     "execution_count": 5,
     "metadata": {},
     "output_type": "execute_result"
    }
   ],
   "source": [
    "grouped_df.head(2)"
   ]
  },
  {
   "cell_type": "code",
   "execution_count": 6,
   "id": "a1bb039e-3487-4ff2-a964-b4a0964c817f",
   "metadata": {},
   "outputs": [
    {
     "name": "stderr",
     "output_type": "stream",
     "text": [
      "C:\\Users\\yan.teixeira\\AppData\\Local\\Temp\\ipykernel_1400\\1624062150.py:41: FutureWarning: Downcasting object dtype arrays on .fillna, .ffill, .bfill is deprecated and will change in a future version. Call result.infer_objects(copy=False) instead. To opt-in to the future behavior, set `pd.set_option('future.no_silent_downcasting', True)`\n",
      "  grouped_df['is_forecast'] = grouped_df['is_forecast'].fillna(False)\n"
     ]
    }
   ],
   "source": [
    "forecast_columns = ['clicks']\n",
    "\n",
    "def dynamic_forecast_moving_average(series, window, forecast_horizon):\n",
    "    values = list(series.dropna())\n",
    "    if not values:\n",
    "        return [np.nan] * forecast_horizon\n",
    "    for _ in range(forecast_horizon):\n",
    "        moving_avg = np.mean(values[-window:]) if len(values) >= window else np.mean(values)\n",
    "        values.append(moving_avg)\n",
    "    return values[-forecast_horizon:]\n",
    "\n",
    "def add_dynamic_forecasts(group, forecast_horizon, window):\n",
    "    group = group.set_index('date')\n",
    "    group.index = pd.to_datetime(group.index)\n",
    "    group = group.asfreq('D', method='ffill') \n",
    "\n",
    "    last_date = group.index.max()\n",
    "    forecast_dates = pd.date_range(start=last_date, periods=forecast_horizon + 1, freq='D')[1:]\n",
    "    forecast_data = {}\n",
    "\n",
    "    for col in forecast_columns:\n",
    "        forecast_data[col] = dynamic_forecast_moving_average(group[col], window, forecast_horizon)\n",
    "\n",
    "    forecast_df = pd.DataFrame(forecast_data, index=forecast_dates)\n",
    "    forecast_df['ID'] = group['ID'].iloc[0]\n",
    "    forecast_df['is_forecast'] = True\n",
    "\n",
    "    group = group.reset_index()\n",
    "    forecast_df = forecast_df.reset_index().rename(columns={'index': 'date'})\n",
    "\n",
    "    return forecast_df\n",
    "\n",
    "all_data = []\n",
    "window_size = 13\n",
    "forecast_horizon = 16\n",
    "for name, group in grouped_df.groupby(['ID']):\n",
    "    forecast_df = add_dynamic_forecasts(group, forecast_horizon, window_size)\n",
    "    all_data.append(pd.concat([group.reset_index(drop=True), forecast_df]))\n",
    "\n",
    "grouped_df = pd.concat(all_data).sort_values(by=['ID', 'date'])\n",
    "grouped_df['is_forecast'] = grouped_df['is_forecast'].fillna(False)"
   ]
  },
  {
   "cell_type": "code",
   "execution_count": 7,
   "id": "23329127-b781-4028-b041-82443b892de4",
   "metadata": {},
   "outputs": [],
   "source": [
    "train = grouped_df[grouped_df['is_forecast'] == False]\n",
    "test = grouped_df[grouped_df['is_forecast'] == True]"
   ]
  },
  {
   "cell_type": "code",
   "execution_count": 8,
   "id": "0168b655-7866-48d0-8935-4f805dc27b1c",
   "metadata": {},
   "outputs": [
    {
     "data": {
      "text/html": [
       "<div>\n",
       "<style scoped>\n",
       "    .dataframe tbody tr th:only-of-type {\n",
       "        vertical-align: middle;\n",
       "    }\n",
       "\n",
       "    .dataframe tbody tr th {\n",
       "        vertical-align: top;\n",
       "    }\n",
       "\n",
       "    .dataframe thead th {\n",
       "        text-align: right;\n",
       "    }\n",
       "</style>\n",
       "<table border=\"1\" class=\"dataframe\">\n",
       "  <thead>\n",
       "    <tr style=\"text-align: right;\">\n",
       "      <th></th>\n",
       "      <th>ID</th>\n",
       "      <th>clicks</th>\n",
       "      <th>year</th>\n",
       "      <th>month</th>\n",
       "      <th>day</th>\n",
       "      <th>date</th>\n",
       "    </tr>\n",
       "  </thead>\n",
       "  <tbody>\n",
       "    <tr>\n",
       "      <th>0</th>\n",
       "      <td>ID_5da86e71bf5dee4cf5047046</td>\n",
       "      <td>0</td>\n",
       "      <td>2024</td>\n",
       "      <td>01</td>\n",
       "      <td>22</td>\n",
       "      <td>2024-01-22</td>\n",
       "    </tr>\n",
       "    <tr>\n",
       "      <th>1</th>\n",
       "      <td>ID_5da86e71bf5dee4cf5047046</td>\n",
       "      <td>0</td>\n",
       "      <td>2024</td>\n",
       "      <td>01</td>\n",
       "      <td>29</td>\n",
       "      <td>2024-01-29</td>\n",
       "    </tr>\n",
       "    <tr>\n",
       "      <th>2</th>\n",
       "      <td>ID_5e43c29e6279884e2827d894</td>\n",
       "      <td>0</td>\n",
       "      <td>2024</td>\n",
       "      <td>02</td>\n",
       "      <td>21</td>\n",
       "      <td>2024-02-21</td>\n",
       "    </tr>\n",
       "    <tr>\n",
       "      <th>3</th>\n",
       "      <td>ID_5e43c29e6279884e2827d894</td>\n",
       "      <td>0</td>\n",
       "      <td>2024</td>\n",
       "      <td>02</td>\n",
       "      <td>28</td>\n",
       "      <td>2024-02-28</td>\n",
       "    </tr>\n",
       "    <tr>\n",
       "      <th>4</th>\n",
       "      <td>ID_5e4e7b480e374330ee151305</td>\n",
       "      <td>0</td>\n",
       "      <td>2023</td>\n",
       "      <td>12</td>\n",
       "      <td>04</td>\n",
       "      <td>2023-12-04</td>\n",
       "    </tr>\n",
       "  </tbody>\n",
       "</table>\n",
       "</div>"
      ],
      "text/plain": [
       "                            ID  clicks  year month day       date\n",
       "0  ID_5da86e71bf5dee4cf5047046       0  2024    01  22 2024-01-22\n",
       "1  ID_5da86e71bf5dee4cf5047046       0  2024    01  29 2024-01-29\n",
       "2  ID_5e43c29e6279884e2827d894       0  2024    02  21 2024-02-21\n",
       "3  ID_5e43c29e6279884e2827d894       0  2024    02  28 2024-02-28\n",
       "4  ID_5e4e7b480e374330ee151305       0  2023    12  04 2023-12-04"
      ]
     },
     "execution_count": 8,
     "metadata": {},
     "output_type": "execute_result"
    }
   ],
   "source": [
    "sub = submission.copy()\n",
    "\n",
    "sub[['year', 'month', 'day']] = sub['ID'].str.extract(r'_(\\d{4})_(\\d{2})_(\\d{2})')\n",
    "sub['ID'] = sub['ID'].str.replace(r'(_\\d{4}_\\d{2}_\\d{2})$', '', regex=True)\n",
    "\n",
    "sub['date'] = pd.to_datetime(sub[['year', 'month', 'day']])\n",
    "sub.head(5)"
   ]
  },
  {
   "cell_type": "code",
   "execution_count": 9,
   "id": "a39d3ef9-0b5c-4720-893c-d54fe03c1f2f",
   "metadata": {},
   "outputs": [],
   "source": [
    "filtered_test = pd.merge(test, sub[['ID', 'date']], on=['ID', 'date'])"
   ]
  },
  {
   "cell_type": "code",
   "execution_count": 10,
   "id": "20b97a7e-48d6-46cb-bac1-16d61391e984",
   "metadata": {},
   "outputs": [],
   "source": [
    "merge_df = pd.merge(sub, filtered_test, on=['ID', 'date'], how='left')\n",
    "\n",
    "click_sums = merge_df.groupby(['ID', 'date'])['clicks_y'].sum().reset_index()\n",
    "click_sums.rename(columns={'clicks_y': 'sum_clicks'}, inplace=True)\n",
    "\n",
    "sub = pd.merge(sub, click_sums, on=['ID', 'date'], how='left')\n",
    "sub['clicks'] = sub['sum_clicks']\n",
    "\n",
    "sub.drop(columns='sum_clicks', inplace=True)"
   ]
  },
  {
   "cell_type": "code",
   "execution_count": 11,
   "id": "8b569214-76ed-4136-b544-7afdfb8be592",
   "metadata": {},
   "outputs": [],
   "source": [
    "sub['clicks'] = sub['clicks'].round()\n",
    "submission['clicks'] = sub['clicks']"
   ]
  },
  {
   "cell_type": "code",
   "execution_count": 12,
   "id": "1c37f29a-c582-47d0-b93f-1246950fffed",
   "metadata": {},
   "outputs": [],
   "source": [
    "submission.to_csv('submission.csv', index=False)"
   ]
  },
  {
   "cell_type": "code",
   "execution_count": 13,
   "id": "71277991-aea5-4b8a-abc8-fde4849259ec",
   "metadata": {},
   "outputs": [
    {
     "data": {
      "text/html": [
       "<div>\n",
       "<style scoped>\n",
       "    .dataframe tbody tr th:only-of-type {\n",
       "        vertical-align: middle;\n",
       "    }\n",
       "\n",
       "    .dataframe tbody tr th {\n",
       "        vertical-align: top;\n",
       "    }\n",
       "\n",
       "    .dataframe thead th {\n",
       "        text-align: right;\n",
       "    }\n",
       "</style>\n",
       "<table border=\"1\" class=\"dataframe\">\n",
       "  <thead>\n",
       "    <tr style=\"text-align: right;\">\n",
       "      <th></th>\n",
       "      <th>ID</th>\n",
       "      <th>clicks</th>\n",
       "    </tr>\n",
       "  </thead>\n",
       "  <tbody>\n",
       "    <tr>\n",
       "      <th>0</th>\n",
       "      <td>ID_5da86e71bf5dee4cf5047046_2024_01_22</td>\n",
       "      <td>115.0</td>\n",
       "    </tr>\n",
       "    <tr>\n",
       "      <th>1</th>\n",
       "      <td>ID_5da86e71bf5dee4cf5047046_2024_01_29</td>\n",
       "      <td>115.0</td>\n",
       "    </tr>\n",
       "    <tr>\n",
       "      <th>2</th>\n",
       "      <td>ID_5e43c29e6279884e2827d894_2024_02_21</td>\n",
       "      <td>5.0</td>\n",
       "    </tr>\n",
       "    <tr>\n",
       "      <th>3</th>\n",
       "      <td>ID_5e43c29e6279884e2827d894_2024_02_28</td>\n",
       "      <td>5.0</td>\n",
       "    </tr>\n",
       "    <tr>\n",
       "      <th>4</th>\n",
       "      <td>ID_5e4e7b480e374330ee151305_2023_12_04</td>\n",
       "      <td>3.0</td>\n",
       "    </tr>\n",
       "    <tr>\n",
       "      <th>5</th>\n",
       "      <td>ID_5e4e7b480e374330ee151305_2023_12_11</td>\n",
       "      <td>3.0</td>\n",
       "    </tr>\n",
       "    <tr>\n",
       "      <th>6</th>\n",
       "      <td>ID_5e8ad56cd4090270567b6c58_2024_02_21</td>\n",
       "      <td>20.0</td>\n",
       "    </tr>\n",
       "    <tr>\n",
       "      <th>7</th>\n",
       "      <td>ID_5e8ad56cd4090270567b6c58_2024_02_28</td>\n",
       "      <td>20.0</td>\n",
       "    </tr>\n",
       "    <tr>\n",
       "      <th>8</th>\n",
       "      <td>ID_5e8b4f12d8709943490cd775_2023_09_24</td>\n",
       "      <td>9.0</td>\n",
       "    </tr>\n",
       "    <tr>\n",
       "      <th>9</th>\n",
       "      <td>ID_5e8b4f12d8709943490cd775_2023_10_01</td>\n",
       "      <td>9.0</td>\n",
       "    </tr>\n",
       "  </tbody>\n",
       "</table>\n",
       "</div>"
      ],
      "text/plain": [
       "                                       ID  clicks\n",
       "0  ID_5da86e71bf5dee4cf5047046_2024_01_22   115.0\n",
       "1  ID_5da86e71bf5dee4cf5047046_2024_01_29   115.0\n",
       "2  ID_5e43c29e6279884e2827d894_2024_02_21     5.0\n",
       "3  ID_5e43c29e6279884e2827d894_2024_02_28     5.0\n",
       "4  ID_5e4e7b480e374330ee151305_2023_12_04     3.0\n",
       "5  ID_5e4e7b480e374330ee151305_2023_12_11     3.0\n",
       "6  ID_5e8ad56cd4090270567b6c58_2024_02_21    20.0\n",
       "7  ID_5e8ad56cd4090270567b6c58_2024_02_28    20.0\n",
       "8  ID_5e8b4f12d8709943490cd775_2023_09_24     9.0\n",
       "9  ID_5e8b4f12d8709943490cd775_2023_10_01     9.0"
      ]
     },
     "execution_count": 13,
     "metadata": {},
     "output_type": "execute_result"
    }
   ],
   "source": [
    "submission.head(10)"
   ]
  },
  {
   "cell_type": "code",
   "execution_count": null,
   "id": "d3cc488a-6f73-45c1-9f88-6c4069c27431",
   "metadata": {},
   "outputs": [],
   "source": []
  }
 ],
 "metadata": {
  "kernelspec": {
   "display_name": "Python 3 (ipykernel)",
   "language": "python",
   "name": "python3"
  },
  "language_info": {
   "codemirror_mode": {
    "name": "ipython",
    "version": 3
   },
   "file_extension": ".py",
   "mimetype": "text/x-python",
   "name": "python",
   "nbconvert_exporter": "python",
   "pygments_lexer": "ipython3",
   "version": "3.12.2"
  }
 },
 "nbformat": 4,
 "nbformat_minor": 5
}
